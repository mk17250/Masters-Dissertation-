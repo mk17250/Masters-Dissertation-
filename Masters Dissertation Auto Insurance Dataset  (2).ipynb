{
 "cells": [
  {
   "cell_type": "code",
   "execution_count": 1,
   "metadata": {
    "scrolled": true
   },
   "outputs": [
    {
     "name": "stdout",
     "output_type": "stream",
     "text": [
      "Requirement already satisfied: imblearn in c:\\users\\home\\anaconda3\\lib\\site-packages (0.0)\n",
      "Requirement already satisfied: imbalanced-learn in c:\\users\\home\\anaconda3\\lib\\site-packages (from imblearn) (0.8.1)\n",
      "Requirement already satisfied: joblib>=0.11 in c:\\users\\home\\anaconda3\\lib\\site-packages (from imbalanced-learn->imblearn) (0.17.0)\n",
      "Requirement already satisfied: scikit-learn>=0.24 in c:\\users\\home\\anaconda3\\lib\\site-packages (from imbalanced-learn->imblearn) (1.0)\n",
      "Requirement already satisfied: scipy>=0.19.1 in c:\\users\\home\\anaconda3\\lib\\site-packages (from imbalanced-learn->imblearn) (1.5.2)\n",
      "Requirement already satisfied: numpy>=1.13.3 in c:\\users\\home\\anaconda3\\lib\\site-packages (from imbalanced-learn->imblearn) (1.19.2)\n",
      "Requirement already satisfied: threadpoolctl>=2.0.0 in c:\\users\\home\\anaconda3\\lib\\site-packages (from scikit-learn>=0.24->imbalanced-learn->imblearn) (2.1.0)\n"
     ]
    }
   ],
   "source": [
    "# Install imblearn into conda \n",
    "!pip install imblearn"
   ]
  },
  {
   "cell_type": "code",
   "execution_count": 2,
   "metadata": {},
   "outputs": [],
   "source": [
    "# Import libraries \n",
    "import numpy as np \n",
    "import pandas as pd \n",
    "import seaborn as sns\n",
    "from matplotlib import pyplot as plt\n",
    "import plotly.figure_factory as ff\n",
    "import warnings\n",
    "warnings.filterwarnings(\"ignore\")\n",
    "warnings.simplefilter(action='ignore', category=FutureWarning)\n",
    "\n",
    "from imblearn.over_sampling import SMOTE\n",
    "from sklearn.preprocessing import StandardScaler\n",
    "from sklearn.pipeline import Pipeline, make_pipeline\n",
    "from sklearn.tree import DecisionTreeClassifier\n",
    "from sklearn.ensemble import RandomForestClassifier\n",
    "from sklearn.datasets import make_classification\n",
    "from sklearn import svm, preprocessing, metrics\n",
    "from sklearn.model_selection import GridSearchCV, cross_val_score, train_test_split\n",
    "from xgboost import XGBClassifier\n",
    "from sklearn.metrics import make_scorer, confusion_matrix, accuracy_score, precision_recall_fscore_support, roc_auc_score \n",
    "import winsound"
   ]
  },
  {
   "cell_type": "code",
   "execution_count": 3,
   "metadata": {},
   "outputs": [],
   "source": [
    "# Function import data\n",
    "def import_data(path=r'C:\\Users\\Home\\OneDrive\\Advent\\insurance_claims_this_one.csv'):\n",
    "    \"\"\"pass path to CSV file location\"\"\"\n",
    "    # Import data  \n",
    "    df = pd.read_csv(path)\n",
    "    return df                    "
   ]
  },
  {
   "cell_type": "code",
   "execution_count": 4,
   "metadata": {},
   "outputs": [
    {
     "data": {
      "text/html": [
       "<div>\n",
       "<style scoped>\n",
       "    .dataframe tbody tr th:only-of-type {\n",
       "        vertical-align: middle;\n",
       "    }\n",
       "\n",
       "    .dataframe tbody tr th {\n",
       "        vertical-align: top;\n",
       "    }\n",
       "\n",
       "    .dataframe thead th {\n",
       "        text-align: right;\n",
       "    }\n",
       "</style>\n",
       "<table border=\"1\" class=\"dataframe\">\n",
       "  <thead>\n",
       "    <tr style=\"text-align: right;\">\n",
       "      <th></th>\n",
       "      <th>months_as_customer</th>\n",
       "      <th>age</th>\n",
       "      <th>policy_number</th>\n",
       "      <th>policy_bind_date</th>\n",
       "      <th>policy_state</th>\n",
       "      <th>policy_csl</th>\n",
       "      <th>policy_deductable</th>\n",
       "      <th>policy_annual_premium</th>\n",
       "      <th>umbrella_limit</th>\n",
       "      <th>insured_zip</th>\n",
       "      <th>...</th>\n",
       "      <th>police_report_available</th>\n",
       "      <th>total_claim_amount</th>\n",
       "      <th>injury_claim</th>\n",
       "      <th>property_claim</th>\n",
       "      <th>vehicle_claim</th>\n",
       "      <th>auto_make</th>\n",
       "      <th>auto_model</th>\n",
       "      <th>auto_year</th>\n",
       "      <th>fraud_reported</th>\n",
       "      <th>_c39</th>\n",
       "    </tr>\n",
       "  </thead>\n",
       "  <tbody>\n",
       "    <tr>\n",
       "      <th>0</th>\n",
       "      <td>328</td>\n",
       "      <td>48</td>\n",
       "      <td>521585</td>\n",
       "      <td>17/10/2014</td>\n",
       "      <td>OH</td>\n",
       "      <td>250/500</td>\n",
       "      <td>1000</td>\n",
       "      <td>1406.91</td>\n",
       "      <td>0</td>\n",
       "      <td>466132</td>\n",
       "      <td>...</td>\n",
       "      <td>YES</td>\n",
       "      <td>71610</td>\n",
       "      <td>6510</td>\n",
       "      <td>13020</td>\n",
       "      <td>52080</td>\n",
       "      <td>Saab</td>\n",
       "      <td>92x</td>\n",
       "      <td>2004</td>\n",
       "      <td>Y</td>\n",
       "      <td>NaN</td>\n",
       "    </tr>\n",
       "    <tr>\n",
       "      <th>1</th>\n",
       "      <td>228</td>\n",
       "      <td>42</td>\n",
       "      <td>342868</td>\n",
       "      <td>27/06/2006</td>\n",
       "      <td>IN</td>\n",
       "      <td>250/500</td>\n",
       "      <td>2000</td>\n",
       "      <td>1197.22</td>\n",
       "      <td>5000000</td>\n",
       "      <td>468176</td>\n",
       "      <td>...</td>\n",
       "      <td>?</td>\n",
       "      <td>5070</td>\n",
       "      <td>780</td>\n",
       "      <td>780</td>\n",
       "      <td>3510</td>\n",
       "      <td>Mercedes</td>\n",
       "      <td>E400</td>\n",
       "      <td>2007</td>\n",
       "      <td>Y</td>\n",
       "      <td>NaN</td>\n",
       "    </tr>\n",
       "    <tr>\n",
       "      <th>2</th>\n",
       "      <td>134</td>\n",
       "      <td>29</td>\n",
       "      <td>687698</td>\n",
       "      <td>06/09/2000</td>\n",
       "      <td>OH</td>\n",
       "      <td>100/300</td>\n",
       "      <td>2000</td>\n",
       "      <td>1413.14</td>\n",
       "      <td>5000000</td>\n",
       "      <td>430632</td>\n",
       "      <td>...</td>\n",
       "      <td>NO</td>\n",
       "      <td>34650</td>\n",
       "      <td>7700</td>\n",
       "      <td>3850</td>\n",
       "      <td>23100</td>\n",
       "      <td>Dodge</td>\n",
       "      <td>RAM</td>\n",
       "      <td>2007</td>\n",
       "      <td>N</td>\n",
       "      <td>NaN</td>\n",
       "    </tr>\n",
       "    <tr>\n",
       "      <th>3</th>\n",
       "      <td>256</td>\n",
       "      <td>41</td>\n",
       "      <td>227811</td>\n",
       "      <td>25/05/1990</td>\n",
       "      <td>IL</td>\n",
       "      <td>250/500</td>\n",
       "      <td>2000</td>\n",
       "      <td>1415.74</td>\n",
       "      <td>6000000</td>\n",
       "      <td>608117</td>\n",
       "      <td>...</td>\n",
       "      <td>NO</td>\n",
       "      <td>63400</td>\n",
       "      <td>6340</td>\n",
       "      <td>6340</td>\n",
       "      <td>50720</td>\n",
       "      <td>Chevrolet</td>\n",
       "      <td>Tahoe</td>\n",
       "      <td>2014</td>\n",
       "      <td>Y</td>\n",
       "      <td>NaN</td>\n",
       "    </tr>\n",
       "    <tr>\n",
       "      <th>4</th>\n",
       "      <td>228</td>\n",
       "      <td>44</td>\n",
       "      <td>367455</td>\n",
       "      <td>06/06/2014</td>\n",
       "      <td>IL</td>\n",
       "      <td>500/1000</td>\n",
       "      <td>1000</td>\n",
       "      <td>1583.91</td>\n",
       "      <td>6000000</td>\n",
       "      <td>610706</td>\n",
       "      <td>...</td>\n",
       "      <td>NO</td>\n",
       "      <td>6500</td>\n",
       "      <td>1300</td>\n",
       "      <td>650</td>\n",
       "      <td>4550</td>\n",
       "      <td>Accura</td>\n",
       "      <td>RSX</td>\n",
       "      <td>2009</td>\n",
       "      <td>N</td>\n",
       "      <td>NaN</td>\n",
       "    </tr>\n",
       "    <tr>\n",
       "      <th>...</th>\n",
       "      <td>...</td>\n",
       "      <td>...</td>\n",
       "      <td>...</td>\n",
       "      <td>...</td>\n",
       "      <td>...</td>\n",
       "      <td>...</td>\n",
       "      <td>...</td>\n",
       "      <td>...</td>\n",
       "      <td>...</td>\n",
       "      <td>...</td>\n",
       "      <td>...</td>\n",
       "      <td>...</td>\n",
       "      <td>...</td>\n",
       "      <td>...</td>\n",
       "      <td>...</td>\n",
       "      <td>...</td>\n",
       "      <td>...</td>\n",
       "      <td>...</td>\n",
       "      <td>...</td>\n",
       "      <td>...</td>\n",
       "      <td>...</td>\n",
       "    </tr>\n",
       "    <tr>\n",
       "      <th>995</th>\n",
       "      <td>3</td>\n",
       "      <td>38</td>\n",
       "      <td>941851</td>\n",
       "      <td>16/07/1991</td>\n",
       "      <td>OH</td>\n",
       "      <td>500/1000</td>\n",
       "      <td>1000</td>\n",
       "      <td>1310.80</td>\n",
       "      <td>0</td>\n",
       "      <td>431289</td>\n",
       "      <td>...</td>\n",
       "      <td>?</td>\n",
       "      <td>87200</td>\n",
       "      <td>17440</td>\n",
       "      <td>8720</td>\n",
       "      <td>61040</td>\n",
       "      <td>Honda</td>\n",
       "      <td>Accord</td>\n",
       "      <td>2006</td>\n",
       "      <td>N</td>\n",
       "      <td>NaN</td>\n",
       "    </tr>\n",
       "    <tr>\n",
       "      <th>996</th>\n",
       "      <td>285</td>\n",
       "      <td>41</td>\n",
       "      <td>186934</td>\n",
       "      <td>05/01/2014</td>\n",
       "      <td>IL</td>\n",
       "      <td>100/300</td>\n",
       "      <td>1000</td>\n",
       "      <td>1436.79</td>\n",
       "      <td>0</td>\n",
       "      <td>608177</td>\n",
       "      <td>...</td>\n",
       "      <td>?</td>\n",
       "      <td>108480</td>\n",
       "      <td>18080</td>\n",
       "      <td>18080</td>\n",
       "      <td>72320</td>\n",
       "      <td>Volkswagen</td>\n",
       "      <td>Passat</td>\n",
       "      <td>2015</td>\n",
       "      <td>N</td>\n",
       "      <td>NaN</td>\n",
       "    </tr>\n",
       "    <tr>\n",
       "      <th>997</th>\n",
       "      <td>130</td>\n",
       "      <td>34</td>\n",
       "      <td>918516</td>\n",
       "      <td>17/02/2003</td>\n",
       "      <td>OH</td>\n",
       "      <td>250/500</td>\n",
       "      <td>500</td>\n",
       "      <td>1383.49</td>\n",
       "      <td>3000000</td>\n",
       "      <td>442797</td>\n",
       "      <td>...</td>\n",
       "      <td>YES</td>\n",
       "      <td>67500</td>\n",
       "      <td>7500</td>\n",
       "      <td>7500</td>\n",
       "      <td>52500</td>\n",
       "      <td>Suburu</td>\n",
       "      <td>Impreza</td>\n",
       "      <td>1996</td>\n",
       "      <td>N</td>\n",
       "      <td>NaN</td>\n",
       "    </tr>\n",
       "    <tr>\n",
       "      <th>998</th>\n",
       "      <td>458</td>\n",
       "      <td>62</td>\n",
       "      <td>533940</td>\n",
       "      <td>18/11/2011</td>\n",
       "      <td>IL</td>\n",
       "      <td>500/1000</td>\n",
       "      <td>2000</td>\n",
       "      <td>1356.92</td>\n",
       "      <td>5000000</td>\n",
       "      <td>441714</td>\n",
       "      <td>...</td>\n",
       "      <td>YES</td>\n",
       "      <td>46980</td>\n",
       "      <td>5220</td>\n",
       "      <td>5220</td>\n",
       "      <td>36540</td>\n",
       "      <td>Audi</td>\n",
       "      <td>A5</td>\n",
       "      <td>1998</td>\n",
       "      <td>N</td>\n",
       "      <td>NaN</td>\n",
       "    </tr>\n",
       "    <tr>\n",
       "      <th>999</th>\n",
       "      <td>456</td>\n",
       "      <td>60</td>\n",
       "      <td>556080</td>\n",
       "      <td>11/11/1996</td>\n",
       "      <td>OH</td>\n",
       "      <td>250/500</td>\n",
       "      <td>1000</td>\n",
       "      <td>766.19</td>\n",
       "      <td>0</td>\n",
       "      <td>612260</td>\n",
       "      <td>...</td>\n",
       "      <td>?</td>\n",
       "      <td>5060</td>\n",
       "      <td>460</td>\n",
       "      <td>920</td>\n",
       "      <td>3680</td>\n",
       "      <td>Mercedes</td>\n",
       "      <td>E400</td>\n",
       "      <td>2007</td>\n",
       "      <td>N</td>\n",
       "      <td>NaN</td>\n",
       "    </tr>\n",
       "  </tbody>\n",
       "</table>\n",
       "<p>1000 rows × 40 columns</p>\n",
       "</div>"
      ],
      "text/plain": [
       "     months_as_customer  age  policy_number policy_bind_date policy_state  \\\n",
       "0                   328   48         521585       17/10/2014           OH   \n",
       "1                   228   42         342868       27/06/2006           IN   \n",
       "2                   134   29         687698       06/09/2000           OH   \n",
       "3                   256   41         227811       25/05/1990           IL   \n",
       "4                   228   44         367455       06/06/2014           IL   \n",
       "..                  ...  ...            ...              ...          ...   \n",
       "995                   3   38         941851       16/07/1991           OH   \n",
       "996                 285   41         186934       05/01/2014           IL   \n",
       "997                 130   34         918516       17/02/2003           OH   \n",
       "998                 458   62         533940       18/11/2011           IL   \n",
       "999                 456   60         556080       11/11/1996           OH   \n",
       "\n",
       "    policy_csl  policy_deductable  policy_annual_premium  umbrella_limit  \\\n",
       "0      250/500               1000                1406.91               0   \n",
       "1      250/500               2000                1197.22         5000000   \n",
       "2      100/300               2000                1413.14         5000000   \n",
       "3      250/500               2000                1415.74         6000000   \n",
       "4     500/1000               1000                1583.91         6000000   \n",
       "..         ...                ...                    ...             ...   \n",
       "995   500/1000               1000                1310.80               0   \n",
       "996    100/300               1000                1436.79               0   \n",
       "997    250/500                500                1383.49         3000000   \n",
       "998   500/1000               2000                1356.92         5000000   \n",
       "999    250/500               1000                 766.19               0   \n",
       "\n",
       "     insured_zip  ... police_report_available total_claim_amount injury_claim  \\\n",
       "0         466132  ...                     YES              71610         6510   \n",
       "1         468176  ...                       ?               5070          780   \n",
       "2         430632  ...                      NO              34650         7700   \n",
       "3         608117  ...                      NO              63400         6340   \n",
       "4         610706  ...                      NO               6500         1300   \n",
       "..           ...  ...                     ...                ...          ...   \n",
       "995       431289  ...                       ?              87200        17440   \n",
       "996       608177  ...                       ?             108480        18080   \n",
       "997       442797  ...                     YES              67500         7500   \n",
       "998       441714  ...                     YES              46980         5220   \n",
       "999       612260  ...                       ?               5060          460   \n",
       "\n",
       "    property_claim vehicle_claim   auto_make  auto_model auto_year  \\\n",
       "0            13020         52080        Saab         92x      2004   \n",
       "1              780          3510    Mercedes        E400      2007   \n",
       "2             3850         23100       Dodge         RAM      2007   \n",
       "3             6340         50720   Chevrolet       Tahoe      2014   \n",
       "4              650          4550      Accura         RSX      2009   \n",
       "..             ...           ...         ...         ...       ...   \n",
       "995           8720         61040       Honda      Accord      2006   \n",
       "996          18080         72320  Volkswagen      Passat      2015   \n",
       "997           7500         52500      Suburu     Impreza      1996   \n",
       "998           5220         36540        Audi          A5      1998   \n",
       "999            920          3680    Mercedes        E400      2007   \n",
       "\n",
       "    fraud_reported _c39  \n",
       "0                Y  NaN  \n",
       "1                Y  NaN  \n",
       "2                N  NaN  \n",
       "3                Y  NaN  \n",
       "4                N  NaN  \n",
       "..             ...  ...  \n",
       "995              N  NaN  \n",
       "996              N  NaN  \n",
       "997              N  NaN  \n",
       "998              N  NaN  \n",
       "999              N  NaN  \n",
       "\n",
       "[1000 rows x 40 columns]"
      ]
     },
     "execution_count": 4,
     "metadata": {},
     "output_type": "execute_result"
    }
   ],
   "source": [
    "# Import data \n",
    "df = import_data()\n",
    "# Show df to ensure data has been imported correctly \n",
    "df"
   ]
  },
  {
   "cell_type": "code",
   "execution_count": null,
   "metadata": {},
   "outputs": [],
   "source": [
    "# Grab col names \n",
    "col_names = df.columns"
   ]
  },
  {
   "cell_type": "code",
   "execution_count": null,
   "metadata": {
    "scrolled": false
   },
   "outputs": [],
   "source": [
    "# It is evident that some features have missing values marked ?, count these:\n",
    "df.isin(['?']).sum(axis=0)"
   ]
  },
  {
   "cell_type": "markdown",
   "metadata": {},
   "source": [
    "# EDA "
   ]
  },
  {
   "cell_type": "code",
   "execution_count": null,
   "metadata": {},
   "outputs": [],
   "source": [
    "# Import data for EDA \n",
    "df_eda = import_data()"
   ]
  },
  {
   "cell_type": "code",
   "execution_count": null,
   "metadata": {},
   "outputs": [],
   "source": [
    "# Drop unwanted varibales for visualisation \n",
    "df_eda = df_eda.drop(['_c39', 'policy_bind_date', 'incident_date', 'incident_location'], axis=1)"
   ]
  },
  {
   "cell_type": "code",
   "execution_count": null,
   "metadata": {
    "scrolled": true
   },
   "outputs": [],
   "source": [
    "# Show histograms of numerical variables\n",
    "df_eda.hist(bins=15, figsize=(18,8), layout=(3,6))"
   ]
  },
  {
   "cell_type": "code",
   "execution_count": null,
   "metadata": {},
   "outputs": [],
   "source": [
    "# Display all categorical features using bar plots \n",
    "import matplotlib.pyplot as plt\n",
    "from pandas.api.types import is_string_dtype\n",
    "from pandas.api.types import is_numeric_dtype\n",
    "\n",
    "categorical=[]\n",
    "for column in df_eda:\n",
    "    if is_string_dtype(df_eda[column]):\n",
    "        categorical.append(column)\n",
    "\n",
    "\n",
    "fig, ax = plt.subplots(6, 2, figsize=(18, 32))\n",
    "for variable, subplot in zip(categorical, ax.flatten()):\n",
    "    sns.countplot(df_eda[variable], ax=subplot, palette='bright')\n",
    "    for label in subplot.get_xticklabels():\n",
    "        label.set_rotation(90)\n",
    "fig.tight_layout()"
   ]
  },
  {
   "cell_type": "code",
   "execution_count": null,
   "metadata": {
    "scrolled": true
   },
   "outputs": [],
   "source": [
    "# Create heat map to visulaise correlation between features (Before pre-processing)\n",
    "sns.set(rc = {'figure.figsize':(15,8)})\n",
    "heat_map = sns.heatmap(df_eda.corr())\n",
    "heat_map"
   ]
  },
  {
   "cell_type": "code",
   "execution_count": null,
   "metadata": {},
   "outputs": [],
   "source": [
    "# Create histograms of numeric features with cases of fraud/no fraud highlighted \n",
    "\n",
    "# numeric col names \n",
    "column_name=[]\n",
    "for i in range(df_eda.shape[1]):\n",
    "    if df_eda.dtypes[i] == 'int64' or df_eda.dtypes[i] == 'float64':\n",
    "        column_name.append(df_eda.columns[i])\n",
    "\n",
    "# create df using numeric cols \n",
    "df_hist = df_eda.loc[:, [c for c in df_eda if c in column_name]]\n",
    "# add target variable to df \n",
    "df_hist['fraud_reported'] = df_eda['fraud_reported']\n",
    "# drop target and convert to array\n",
    "data_array = np.array(df_hist)[:,0:-1]\n",
    "\n",
    "#create df's with all rows of fraud/no fraud, then convert to arrays \n",
    "fig, axes = plt.subplots(6,3, figsize=(10,20))\n",
    "no_fraud1 = df_hist.loc[df_hist['fraud_reported'] == 'N']\n",
    "no_fraud = np.array(no_fraud1)[:,0:-1]\n",
    "fraud1 = df_hist.loc[df_hist['fraud_reported'] == 'Y']\n",
    "fraud = np.array(fraud1)[:,0:-1]\n",
    "\n",
    "ax = axes.ravel()\n",
    "\n",
    "for i in range(df_hist.shape[1]-1):\n",
    "    _, bins = np.histogram(data_array[:, i], bins=50)\n",
    "    ax[i].hist(no_fraud[:, i], bins=bins, color='cornflowerblue', alpha=.5)\n",
    "    ax[i].hist(fraud[:, i], bins=bins, color='red', alpha=.5)\n",
    "    ax[i].set_title(column_name[i])\n",
    "    ax[i].set_yticks(())\n",
    "    ax[i].set_xlabel(\"Scale\")\n",
    "    ax[i].set_ylabel(\"frequency\")\n",
    "    ax[i].legend([\"no_fraud\", \"fraud\"], loc=\"best\")\n",
    "fig.tight_layout()"
   ]
  },
  {
   "cell_type": "code",
   "execution_count": null,
   "metadata": {
    "scrolled": false
   },
   "outputs": [],
   "source": [
    "# Create bar plots using seaborn catplot highlighting fraud Y/N differences \n",
    "\n",
    "df_fraud = df_eda[df_eda['fraud_reported'] == 'Y']\n",
    "df_no_fraud = df_eda[df_eda['fraud_reported'] == 'N']\n",
    "\n",
    "for variable in categorical:\n",
    "    plot = sns.catplot(x=variable, col=\"fraud_reported\", data=df_eda, kind='count',height=6, aspect=1.3, palette = 'bright')\n",
    "    plot.set_xticklabels(rotation=90)\n",
    "fig.tight_layout()"
   ]
  },
  {
   "cell_type": "code",
   "execution_count": null,
   "metadata": {},
   "outputs": [],
   "source": [
    "# Examine target varible \n",
    "plt.figure(figsize=(6,6))\n",
    "sns.countplot(x = 'fraud_reported', data = df, palette = 'bright')"
   ]
  },
  {
   "cell_type": "markdown",
   "metadata": {},
   "source": [
    "## Clean Data and Preprocessing "
   ]
  },
  {
   "cell_type": "code",
   "execution_count": null,
   "metadata": {},
   "outputs": [],
   "source": [
    "# Function to clean data and preprocess \n",
    "\n",
    "def preprocess(df):\n",
    "    \"\"\"Takes df and cleans and preprocesses\"\"\"\n",
    "\n",
    "    # Deal with ?'s in df\n",
    "    df = df.replace('?', 'UNKNOWN')\n",
    "    # Drop cols wiht no information gain\n",
    "    df = df.drop(['policy_number','insured_zip','incident_location', '_c39'], axis=1)\n",
    "    # Convert 'policy_bind_date', 'incident_date' from string to date_time object \n",
    "    cols = ['policy_bind_date', 'incident_date']\n",
    "    df[cols] = df[cols].apply(pd.to_datetime)\n",
    "    # Total days from policy taken out (creation date) to DOL (date of loss) \n",
    "    df['Total days from policy taken to DOL'] = (df['incident_date']-df['policy_bind_date']).dt.days\n",
    "    # Drop the date_time obejects \n",
    "    df = df.drop(['policy_bind_date', 'incident_date'], axis=1)\n",
    "    \n",
    "    # Set labelencoder\n",
    "    encode = preprocessing.LabelEncoder()\n",
    "    # Labelencode suitable cols \n",
    "    df[['policy_state', 'policy_csl', 'umbrella_limit', 'insured_sex', 'insured_education_level', 'insured_occupation', \n",
    "        'insured_hobbies', 'insured_relationship', 'incident_type', 'collision_type', 'incident_severity',\n",
    "        'authorities_contacted', 'incident_state', 'incident_city', 'property_damage', \n",
    "        'police_report_available', 'auto_make', 'auto_model', 'fraud_reported']] = df[['policy_state', 'policy_csl', \n",
    "        'umbrella_limit', 'insured_sex', 'insured_education_level', 'insured_occupation', \n",
    "        'insured_hobbies', 'insured_relationship', 'incident_type', 'collision_type', 'incident_severity',\n",
    "        'authorities_contacted', 'incident_state', 'incident_city', 'property_damage', \n",
    "        'police_report_available', 'auto_make', 'auto_model', 'fraud_reported']].apply(encode.fit_transform)\n",
    "    \n",
    "    return df "
   ]
  },
  {
   "cell_type": "code",
   "execution_count": null,
   "metadata": {},
   "outputs": [],
   "source": [
    "# Change cell settings to display all rows \n",
    "# pd.set_option(\"display.max_rows\", None)\n",
    "pd.set_option(\"display.max_columns\", None)\n",
    "# pd.reset_option(\"display.max_rows\")\n"
   ]
  },
  {
   "cell_type": "markdown",
   "metadata": {},
   "source": [
    "### Get Dummies "
   ]
  },
  {
   "cell_type": "code",
   "execution_count": null,
   "metadata": {},
   "outputs": [],
   "source": [
    "# Function to get_dummies \n",
    "\n",
    "# def function for get dummies all\n",
    "def get_dummies_all(df):\n",
    "    \"\"\"Function to create dummy variable for cols, pass df \"\"\"\n",
    "    # Create cols list for get_dummies func\n",
    "    cols = ['policy_state', 'policy_csl', 'policy_deductable', 'insured_education_level', 'insured_relationship',\n",
    "            'incident_type', 'collision_type', 'incident_severity', 'authorities_contacted', 'incident_state', 'incident_city',\n",
    "            'number_of_vehicles_involved', 'property_damage', 'bodily_injuries', 'witnesses', 'police_report_available', \n",
    "            'auto_make', 'auto_year', 'insured_occupation', 'insured_hobbies', 'binned_months_as_customer', 'binned_age',\n",
    "            'binned_policy_annual_premium', 'binned_capital_gains', 'binned_capital_loss', 'binned_incident_hour_of_the_day',\n",
    "            'binned_total_claim_amount', 'binned_Total_days_from_policy_taken_to_DOL', 'binned_injury_claim',\n",
    "            'binned_property_claim', 'binned_vehicle_claim', 'umbrella_limit', 'auto_model']\n",
    "    df = pd.get_dummies(data=df, columns=cols)\n",
    "    return df \n",
    "\n",
    "# def function for get dummies unbinned \n",
    "def get_dummies_unbinned(df):\n",
    "    \"\"\"Function to create dummy variable for cols, pass df \"\"\"\n",
    "    # Create cols list for get_dummies func\n",
    "    cols = ['policy_state', 'policy_csl', 'policy_deductable', 'insured_education_level', 'insured_relationship',\n",
    "            'incident_type', 'collision_type', 'incident_severity', 'authorities_contacted', 'incident_state', 'incident_city',\n",
    "            'number_of_vehicles_involved', 'property_damage', 'bodily_injuries', 'witnesses', 'police_report_available', \n",
    "            'auto_make', 'auto_year', 'insured_occupation', 'insured_hobbies']\n",
    "    df = pd.get_dummies(data=df, columns=cols)\n",
    "    return df \n",
    "\n",
    "# def function for get dummies binned\n",
    "def get_dummies_binned(df):\n",
    "    \"\"\"Function to create dummy variable for cols, pass df \"\"\"\n",
    "    # Create cols list for get_dummies func\n",
    "    cols = ['binned_months_as_customer', 'binned_age',\n",
    "            'binned_policy_annual_premium', 'binned_capital_gains', 'binned_capital_loss', 'binned_incident_hour_of_the_day',\n",
    "            'binned_total_claim_amount', 'binned_Total_days_from_policy_taken_to_DOL', 'binned_injury_claim',\n",
    "            'binned_property_claim', 'binned_vehicle_claim', 'umbrella_limit', 'auto_model']\n",
    "    df = pd.get_dummies(data=df, columns=cols)\n",
    "    return df "
   ]
  },
  {
   "cell_type": "markdown",
   "metadata": {},
   "source": [
    "### Bin Values"
   ]
  },
  {
   "cell_type": "code",
   "execution_count": null,
   "metadata": {},
   "outputs": [],
   "source": [
    "# Function for binning choose values \n",
    "\n",
    "def bin_values(df):\n",
    "    \"\"\"input df and relevant cols will be binned and original cols dropped\"\"\"\n",
    "\n",
    "    bin_labels_months_as_cust = [0,1,2,3,4,5,6,7,8]\n",
    "    df['binned_months_as_customer'] = pd.cut(df['months_as_customer'],\n",
    "                                             bins=[-1,0,2,6,12,18,24,100,300,500],\n",
    "                                             labels=bin_labels_months_as_cust).astype(int)\n",
    "\n",
    "    bin_labels_age = [0,1,2,3,4,5,6,7,8,9,10]\n",
    "    df['binned_age'] = pd.cut(df['age'],\n",
    "                             bins=[16,18,21,25,29,35,40,50,60,70,80,100],\n",
    "                             labels=bin_labels_age).astype(int)\n",
    "\n",
    "    bin_labels_policy_annual_premium = [0,1,2,3,4,5,6]\n",
    "    df['binned_policy_annual_premium'] = pd.cut(df['policy_annual_premium'],\n",
    "                                               bins=[1,500,1000,1500,2000,2500,3000,4000],\n",
    "                                               labels=bin_labels_policy_annual_premium).astype(int)\n",
    "    bin_labels_capital_gains = [0,1,2,3,4,5,6]\n",
    "    df['binned_capital_gains'] = pd.cut(df['capital-gains'],\n",
    "                                       bins=[-1,0,20000,40000,60000,80000,100000,150000],\n",
    "                                       labels=bin_labels_capital_gains).astype(int)\n",
    "\n",
    "    bin_labels_capital_loss = [0,1,2,3,4,5,6]\n",
    "    df['binned_capital_loss'] = pd.cut(df['capital-loss'],\n",
    "                                       bins=[-150000,-100000,-80000,-60000,-40000,-20000,0,1],\n",
    "                                       labels=bin_labels_capital_loss).astype(int)\n",
    "\n",
    "    bin_labels_incident_hour_of_the_day = [0,1,2,3]\n",
    "    df['binned_incident_hour_of_the_day'] = pd.cut(df['incident_hour_of_the_day'],\n",
    "                                                   bins=[-1,0,6,12,24],\n",
    "                                                   labels=bin_labels_incident_hour_of_the_day).astype(int)\n",
    "\n",
    "    bin_labels_total_claim_amount = [0,1,2,3,4,5,6,7,8,9]\n",
    "    df['binned_total_claim_amount'] = pd.cut(df['total_claim_amount'],\n",
    "                                            bins=[1,250,500,1000,2000,5000,10000,20000,50000,100000,150000],\n",
    "                                            labels=bin_labels_total_claim_amount).astype(int)\n",
    "\n",
    "    bin_labels_Total_days_from_policy_taken_to_DOL = [0,1,2,3,4,5,6,7,8,9,10,11]\n",
    "    df['binned_Total_days_from_policy_taken_to_DOL'] = pd.cut(df['Total days from policy taken to DOL'],\n",
    "                                                             bins=[-100,-80,0,5,10,30,100,250,500,1000,2500,5000,10000],\n",
    "                                                             labels=bin_labels_Total_days_from_policy_taken_to_DOL).astype(int)\n",
    "    \n",
    "    bin_labels_injury_claim = [0,1,2,3,4,5,6]\n",
    "    df['binned_injury_claim'] = pd.cut(df['injury_claim'],\n",
    "                                      bins=[-1,0,5000,10000,15000,20000,25000,50000],\n",
    "                                      labels=bin_labels_injury_claim).astype(int)\n",
    "    \n",
    "    bin_labels_property_claim = [0,1,2,3,4,5,6]\n",
    "    df['binned_property_claim'] = pd.cut(df['property_claim'],\n",
    "                                      bins=[-1,0,5000,10000,15000,20000,25000,50000],\n",
    "                                      labels=bin_labels_injury_claim).astype(int)\n",
    "    \n",
    "    bin_labels_vehicle_claim = [0,1,2,3,4,5,6,7,8]\n",
    "    df['binned_vehicle_claim'] = pd.cut(df['vehicle_claim'],\n",
    "                                      bins=[-1,0,5000,10000,15000,20000,25000,50000,75000,100000],\n",
    "                                      labels=bin_labels_vehicle_claim).astype(int)\n",
    "    \n",
    "    df = df.drop(['months_as_customer', 'policy_annual_premium', 'age', 'policy_annual_premium', 'capital-gains',\n",
    "                 'capital-loss', 'incident_hour_of_the_day', 'total_claim_amount', 'Total days from policy taken to DOL',\n",
    "                 'injury_claim', 'property_claim', 'vehicle_claim'],\n",
    "                axis=1)\n",
    "    \n",
    "    return df \n"
   ]
  },
  {
   "cell_type": "markdown",
   "metadata": {},
   "source": [
    "### Apply Preprocessing Pipes"
   ]
  },
  {
   "cell_type": "code",
   "execution_count": null,
   "metadata": {},
   "outputs": [],
   "source": [
    "# Using pipes to call functions and create 3 df's with varying amount of binned values \n",
    "df_v = import_data().pipe(preprocess)\n",
    "df = import_data().pipe(preprocess).pipe(bin_values)\n",
    "df_all = import_data().pipe(preprocess).pipe(bin_values).pipe(get_dummies_all)\n",
    "df_binned = import_data().pipe(preprocess).pipe(bin_values).pipe(get_dummies_binned)\n",
    "df_unbinned = import_data().pipe(preprocess).pipe(bin_values).pipe(get_dummies_unbinned)"
   ]
  },
  {
   "cell_type": "code",
   "execution_count": null,
   "metadata": {},
   "outputs": [],
   "source": [
    "# Create heat map of features to display correlation (after preprocessing)\n",
    "sns.set(rc = {'figure.figsize':(15,8)})\n",
    "heat_map = sns.heatmap(df_v.corr())\n",
    "heat_map"
   ]
  },
  {
   "cell_type": "markdown",
   "metadata": {},
   "source": [
    "# Apply ML models "
   ]
  },
  {
   "cell_type": "code",
   "execution_count": null,
   "metadata": {},
   "outputs": [],
   "source": [
    "# Function to create x and y, then x_test, y_test\n",
    "\n",
    "def train_test(df):\n",
    "    \"\"\"Takes df and returns x, y, x_train, y_train, x_test, y_test\"\"\"\n",
    "    \n",
    "    # Split into x and y \n",
    "    x = df.loc[:, df.columns != 'fraud_reported']\n",
    "    y = pd.DataFrame(df['fraud_reported'])\n",
    "\n",
    "    # split the data into train and test set\n",
    "    x_train, x_test, y_train, y_test = train_test_split(x, y, test_size=0.2, random_state=42, shuffle=True)\n",
    "    \n",
    "    return x, y, x_train, x_test, y_train, y_test"
   ]
  },
  {
   "cell_type": "markdown",
   "metadata": {},
   "source": [
    "### Set train/test sets "
   ]
  },
  {
   "cell_type": "code",
   "execution_count": null,
   "metadata": {},
   "outputs": [],
   "source": [
    "x, y, x_train, x_test, y_train, y_test = train_test(df)"
   ]
  },
  {
   "cell_type": "markdown",
   "metadata": {},
   "source": [
    "### SMOTE "
   ]
  },
  {
   "cell_type": "code",
   "execution_count": null,
   "metadata": {},
   "outputs": [],
   "source": [
    "#Over sample the minority class using SMOTE\n",
    "\n",
    "sm = SMOTE(random_state=42)\n",
    "\n",
    "x_sm, y_sm = sm.fit_resample(x_train, y_train)\n",
    "\n",
    "print(f'''Shape of x before SMOTE: {x_train.shape}\n",
    "      Shape of x after SMOTE: {x_sm.shape}''')"
   ]
  },
  {
   "cell_type": "code",
   "execution_count": null,
   "metadata": {
    "scrolled": true
   },
   "outputs": [],
   "source": [
    "# Visualise target variable Churn \n",
    "y_smote = pd.DataFrame(y_sm, columns = ['fraud_reported'])\n",
    "# Traget Varibale is now balanced\n",
    "plt.figure(figsize=(6,6))\n",
    "sns.countplot(x = 'fraud_reported', data = y_smote, palette='bright')\n",
    "# Percemtage of churn = \n",
    "fraud = y_sm == 1\n",
    "y_true = y_sm[fraud]\n",
    "print(\"percent of fraud/no fraud (%):\" +str((y_true.shape[0] / y_sm.shape[0] * 100)))\n",
    "# Class is now balanced "
   ]
  },
  {
   "cell_type": "markdown",
   "metadata": {},
   "source": [
    "# Evaluate performance on data with preprocessing and binned features (no label encoding)"
   ]
  },
  {
   "cell_type": "code",
   "execution_count": null,
   "metadata": {},
   "outputs": [],
   "source": [
    "x, y, x_train, x_test, y_train, y_test = train_test(df)"
   ]
  },
  {
   "cell_type": "markdown",
   "metadata": {},
   "source": [
    "# DT"
   ]
  },
  {
   "cell_type": "code",
   "execution_count": null,
   "metadata": {},
   "outputs": [],
   "source": [
    "# Function to perform nested CV on DT model \n",
    "def DT_nested(x_train, y_train):\n",
    "    \"\"\"pass x_train, y_train and function will perfrom nested CV on DT model to indicate how model may generalise\"\"\"\n",
    "    \n",
    "    clf = DecisionTreeClassifier()\n",
    "    param_grid = {\n",
    "    'criterion': ['gini', 'entropy'],\n",
    "    'max_depth' : [2,4,6,8,10],\n",
    "    'class_weight': [{0: 1, 1: 1}, {0: 1, 1: 5}, {0: 1, 1: 10}, {0: 1, 1: 25}, 'balanced'] \n",
    "    }\n",
    "    grid = GridSearchCV(clf, param_grid, cv=5, n_jobs=-1)\n",
    "    scores = cross_val_score(grid, x_train, y_train, cv=5)\n",
    "    print('Average cross_val score of DT: %.4f' % scores.mean())"
   ]
  },
  {
   "cell_type": "code",
   "execution_count": null,
   "metadata": {},
   "outputs": [],
   "source": [
    "def DT_grid(x_train, x_test, y_train, y_test):\n",
    "    \"\"\"pass x_train, X_test, y_train, y_test and function will perfrom gridsearch CV and return scores and print best params\"\"\"\n",
    "    \n",
    "    clf = DecisionTreeClassifier()\n",
    "    param_grid = {\n",
    "    'criterion': ['gini', 'entropy'],\n",
    "    'max_depth' : [2,4,6,8,10],\n",
    "    'class_weight': [{0: 1, 1: 1}, {0: 1, 1: 5}, {0: 1, 1: 10}, {0: 1, 1: 25}, 'balanced'] \n",
    "    }\n",
    "    grid = GridSearchCV(clf, param_grid, cv=5, n_jobs=-1)\n",
    "    grid.fit(x_train, y_train.values.ravel())\n",
    "    \n",
    "    # Mean cross-validated score of the best_estimator\n",
    "    return print(\" The best cross validation score for the DT model is: \"  + np.str(\"%0.4f\" % grid.best_score_) + \n",
    "                 \"\\n The best parameters for the DT model: \" + np.str(grid.best_params_) + \n",
    "                 \"\\n Test score: {:.4f}\".format(grid.score(x_test, y_test.values.ravel())))"
   ]
  },
  {
   "cell_type": "code",
   "execution_count": null,
   "metadata": {},
   "outputs": [],
   "source": [
    "# Function to provide confusion matrix on saved back test data \n",
    "def DT_eval(x_train, x_test, y_train, y_test, criterion='entropy', max_depth=4, class_weight='balanced'):\n",
    "    \"\"\"Create confusion matrix. Pass best params manually from printed DT_grid function result\"\"\"\n",
    "    clf=DecisionTreeClassifier(criterion=criterion, max_depth=max_depth, class_weight=class_weight)\n",
    "    clf.fit(x_train, y_train.values.ravel())\n",
    "    DT_preds = clf.predict(x_test)\n",
    "    DT_acc = clf.score(x_test, y_test.values.ravel())\n",
    "    DT_cm = confusion_matrix(y_test, DT_preds)\n",
    "    DT_precision, DT_recall, DT_f1score, _ = precision_recall_fscore_support(y_test, DT_preds, average='binary')\n",
    "    DT_auc = roc_auc_score(y_test, DT_preds)\n",
    "    return DT_acc, DT_cm, DT_precision, DT_recall, DT_f1score, DT_auc, DT_preds"
   ]
  },
  {
   "cell_type": "code",
   "execution_count": null,
   "metadata": {},
   "outputs": [],
   "source": [
    "# Perfomed nested CV on DT model \n",
    "DT_nested(x_train, y_train)"
   ]
  },
  {
   "cell_type": "code",
   "execution_count": null,
   "metadata": {},
   "outputs": [],
   "source": [
    "# Perform gridsearchCV to establish best params and test score \n",
    "DT_grid(x_train, x_test, y_train, y_test)"
   ]
  },
  {
   "cell_type": "code",
   "execution_count": null,
   "metadata": {},
   "outputs": [],
   "source": [
    "# Call the eval function manually inputting best aparams for clf and print evaluation results \n",
    "DT_acc, DT_cm, DT_precision, DT_recall, DT_f1score, DT_auc, DT_preds = DT_eval(x_train, \n",
    "                                                                               x_test, y_train, y_test, \n",
    "                                                                               criterion='entropy', max_depth=4, \n",
    "                                                                               class_weight='balanced')\n",
    "print(\"Accuracy:\\t\", \"%0.4f\" % DT_acc)\n",
    "print(\"Precision:\\t\", \"%0.4f\" % DT_precision)\n",
    "print(\"Recall:\\t\\t\", \"%0.4f\" % DT_recall)\n",
    "print(\"F1 Score:\\t\", \"%0.4f\" % DT_f1score)\n",
    "print(\"AUC:\\t\\t\", \"%0.4f\" % DT_auc)\n",
    "DT_cm"
   ]
  },
  {
   "cell_type": "code",
   "execution_count": null,
   "metadata": {
    "scrolled": true
   },
   "outputs": [],
   "source": [
    "con = confusion_matrix(y_test, DT_preds)\n",
    "con\n",
    "plt.figure(figsize=(8,6))\n",
    "sns.heatmap(con, cmap=\"coolwarm\", annot=True, fmt='g', xticklabels=('Predicted No Fraud', 'Predicted Fraud'), \n",
    "            yticklabels=('No Fraud', 'Fraud'))\n",
    "plt.xlabel(\"Predicted\")\n",
    "plt.ylabel(\"Actual\")\n",
    "plt.show()"
   ]
  },
  {
   "cell_type": "markdown",
   "metadata": {},
   "source": [
    "# Random Forrest Classifier "
   ]
  },
  {
   "cell_type": "code",
   "execution_count": null,
   "metadata": {},
   "outputs": [],
   "source": [
    "# Function to perform nested CV on RF model \n",
    "def RF_nested(x_train, y_train):\n",
    "    \"\"\"pass x_train, y_train and function will perfrom nested CV on RF model to indicate how model may generalise\"\"\"\n",
    "    \n",
    "    clf = RandomForestClassifier()\n",
    "    param_grid = {\n",
    "    'criterion': ['gini', 'entropy'],\n",
    "    'max_depth' : [2,4,6,8,10],\n",
    "    'class_weight': [{0: 1, 1: 1}, {0: 1, 1: 5}, {0: 1, 1: 10}, {0: 1, 1: 25}, 'balanced'] \n",
    "    }\n",
    "    grid = GridSearchCV(clf, param_grid, cv=5, n_jobs=-1)\n",
    "    scores = cross_val_score(grid, x_train, y_train, cv=5)\n",
    "    print('Average cross_val score of RF: %.4f' % scores.mean())"
   ]
  },
  {
   "cell_type": "code",
   "execution_count": null,
   "metadata": {},
   "outputs": [],
   "source": [
    "def RF_grid(x_train, x_test, y_train, y_test):\n",
    "    \"\"\"pass x_train, X_test, y_train, y_test and function will perfrom gridsearch CV and return scores and print best params\"\"\"\n",
    "    \n",
    "    clf = RandomForestClassifier()\n",
    "    param_grid = {\n",
    "    'criterion': ['gini', 'entropy'],\n",
    "    'max_depth' : [2,4,6,8,10],\n",
    "    'class_weight': [{0: 1, 1: 1}, {0: 1, 1: 5}, {0: 1, 1: 10}, {0: 1, 1: 25}, 'balanced'] \n",
    "    }\n",
    "    grid = GridSearchCV(clf, param_grid, cv=5, n_jobs=-1)\n",
    "    grid.fit(x_train, y_train.values.ravel())\n",
    "    \n",
    "    # Mean cross-validated score of the best_estimator\n",
    "    return print(\" The best cross validation score for the RF model is: \"  + np.str(\"%0.4f\" % grid.best_score_) + \n",
    "                 \"\\n The best parameters for the RF model: \" + np.str(grid.best_params_) + \n",
    "                 \"\\n Test score: {:.4f}\".format(grid.score(x_test, y_test.values.ravel())))"
   ]
  },
  {
   "cell_type": "code",
   "execution_count": null,
   "metadata": {},
   "outputs": [],
   "source": [
    "# Function to provide confusion matrix on saved back test data \n",
    "def RF_eval(x_train, x_test, y_train, y_test, criterion='gini', max_depth=6, class_weight={0: 1, 1: 5}):\n",
    "    \"\"\"Create confusion matrix. Pass best params manually from printed DT_grid function result\"\"\"\n",
    "    clf=RandomForestClassifier(criterion=criterion, max_depth=max_depth, class_weight=class_weight)\n",
    "    clf.fit(x_train, y_train.values.ravel())\n",
    "    RF_preds = clf.predict(x_test)\n",
    "    cm = confusion_matrix(y_test, RF_preds)\n",
    "    RF_acc = clf.score(x_test, y_test.values.ravel())\n",
    "    RF_cm = confusion_matrix(y_test, RF_preds)\n",
    "    RF_precision, RF_recall, RF_f1score, _ = precision_recall_fscore_support(y_test, RF_preds, average='binary')\n",
    "    RF_auc = roc_auc_score(y_test, RF_preds)\n",
    "    return RF_acc, RF_cm, RF_precision, RF_recall, RF_f1score, RF_auc, RF_preds    "
   ]
  },
  {
   "cell_type": "code",
   "execution_count": null,
   "metadata": {},
   "outputs": [],
   "source": [
    "# Perfomed nested CV on DT model \n",
    "RF_nested(x_train, y_train)"
   ]
  },
  {
   "cell_type": "code",
   "execution_count": null,
   "metadata": {},
   "outputs": [],
   "source": [
    "# Perform gridsearchCV to establish best params and test score \n",
    "RF_grid(x_train, x_test, y_train, y_test)"
   ]
  },
  {
   "cell_type": "code",
   "execution_count": null,
   "metadata": {},
   "outputs": [],
   "source": [
    "# Call the eval function manually inputting best aparams for clf and print evaluation results \n",
    "RF_acc, RF_cm, RF_precision, RF_recall, RF_f1score, RF_auc, RF_preds = RF_eval(x_train, \n",
    "                                                                               x_test, y_train, y_test, \n",
    "                                                                               criterion='gini', max_depth=6, \n",
    "                                                                               class_weight={0: 1, 1: 5})\n",
    "print(\"RF Accuracy:\\t\", \"%0.4f\" % RF_acc)\n",
    "print(\"RF Precision:\\t\", \"%0.4f\" % RF_precision)\n",
    "print(\"RF Recall:\\t\", \"%0.4f\" % RF_recall)\n",
    "print(\"RF F1 Score:\\t\", \"%0.4f\" % RF_f1score)\n",
    "print(\"RF AUC:\\t\\t\", \"%0.4f\" % RF_auc)\n",
    "RF_cm"
   ]
  },
  {
   "cell_type": "code",
   "execution_count": null,
   "metadata": {
    "scrolled": true
   },
   "outputs": [],
   "source": [
    "# Confusion matrix for RF\n",
    "con = confusion_matrix(y_test, RF_preds)\n",
    "con\n",
    "plt.figure(figsize=(8,6))\n",
    "sns.heatmap(con, cmap=\"Greys\", annot=True, fmt='g', xticklabels=('Predicted No Fraud', 'Predicted Fraud'), \n",
    "            yticklabels=('No Fraud', 'Fraud'))\n",
    "plt.xlabel(\"Predicted\")\n",
    "plt.ylabel(\"Actual\")\n",
    "plt.show()"
   ]
  },
  {
   "cell_type": "markdown",
   "metadata": {},
   "source": [
    "# SVM"
   ]
  },
  {
   "cell_type": "code",
   "execution_count": null,
   "metadata": {},
   "outputs": [],
   "source": [
    "# Function to perform nested CV with grid search on SVM to examine how the model will potentially generalise \n",
    "\n",
    "def SVM_nested(x_train, y_train):\n",
    "    \"\"\"Pass x,y and function performs nested CV with gridsearch with SVM\"\"\"\n",
    "    scaler = StandardScaler()\n",
    "    x_train = scaler.fit_transform(x_train)\n",
    "    clf = svm.SVC() # define model\n",
    "    param_grid = {'C': [0.1,1,10,100],\n",
    "                  'gamma': [1,0.1,0.01,0.001],\n",
    "                  'class_weight': [{0:100,1:1}, {0:10,1:1}, {0:1,1:1}, {0:1,1:10}, {0:1,1:100}]}\n",
    "    grid = GridSearchCV(clf, param_grid, cv=5, n_jobs=-1, scoring='f1') \n",
    "    scores = cross_val_score(grid, x_train, y_train.values.ravel(), cv=5, scoring='f1') \n",
    "    # report performance\n",
    "    return print('Average cross_val score of SVM: %.4f' % scores.mean())"
   ]
  },
  {
   "cell_type": "code",
   "execution_count": null,
   "metadata": {},
   "outputs": [],
   "source": [
    "# Function which performs gridsearch and returns scores and best params \n",
    "\n",
    "def SVM_grid(x_train, x_test, y_train, y_test):\n",
    "    \"\"\"Pass x_train, x_test, y_train, y_test\"\"\"\n",
    "    scaler = StandardScaler()\n",
    "    x_train = scaler.fit_transform(x_train)\n",
    "    x_test = scaler.transform(x_test)\n",
    "    clf = svm.SVC() # define model\n",
    "    param_grid = {'C': [0.1,1,10,100, 500],\n",
    "                  'gamma': [1,0.1,0.01,0.001],\n",
    "                  'class_weight': [{0:100,1:1}, {0:10,1:1}, {0:1,1:1}, {0:1,1:10}, {0:1,1:100}]}\n",
    "    grid = GridSearchCV(clf, param_grid, cv=5, n_jobs=-1, scoring='f1') \n",
    "    grid.fit(x_train, y_train.values.ravel()) # fit \n",
    "    \n",
    "    # Mean cross-validated score of the best_estimator\n",
    "    return print(\" The best cross validation score for the SVM model is: \"  + np.str(\"%0.4f\" % grid.best_score_) + \n",
    "                 \"\\n The best parameters for the SVM model: \" + np.str(grid.best_params_) + \n",
    "                 \"\\n Test score: {:.4f}\".format(grid.score(x_test, y_test.values.ravel())))"
   ]
  },
  {
   "cell_type": "code",
   "execution_count": null,
   "metadata": {},
   "outputs": [],
   "source": [
    "# Function to evaluate cm of SVM on test data \n",
    "def SVM_eval(x_train, x_test, y_train, y_test, C = 0.1, class_weight= {0: 100, 1: 1}, gamma= 1):\n",
    "    \"\"\"pass x_train, x_test, y_train, y_test and best params manually from printed grid result\"\"\"\n",
    "    scaler = StandardScaler()\n",
    "    x_train = scaler.fit_transform(x_train)\n",
    "    x_test = scaler.transform(x_test)\n",
    "    clf = svm.SVC(C=C, gamma=gamma, class_weight = class_weight)\n",
    "    clf.fit(x_train, y_train.values.ravel())\n",
    "    SVM_preds = clf.predict(x_test)\n",
    "    cm = confusion_matrix(y_test, SVM_preds)\n",
    "    SVM_acc = clf.score(x_test, y_test.values.ravel())\n",
    "    SVM_cm = confusion_matrix(y_test, SVM_preds)\n",
    "    SVM_precision, SVM_recall, SVM_f1score, _ = precision_recall_fscore_support(y_test, SVM_preds, average='binary')\n",
    "    SVM_auc = roc_auc_score(y_test, SVM_preds)\n",
    "    return SVM_acc, SVM_cm, SVM_precision, SVM_recall, SVM_f1score, SVM_auc, SVM_preds    "
   ]
  },
  {
   "cell_type": "code",
   "execution_count": null,
   "metadata": {},
   "outputs": [],
   "source": [
    "# Perfomed nested CV on SVM model \n",
    "SVM_nested(x_train, y_train)"
   ]
  },
  {
   "cell_type": "code",
   "execution_count": null,
   "metadata": {},
   "outputs": [],
   "source": [
    "# Perform gridsearchCV to establish best params and test score \n",
    "SVM_grid(x_train, x_test, y_train, y_test)"
   ]
  },
  {
   "cell_type": "code",
   "execution_count": null,
   "metadata": {},
   "outputs": [],
   "source": [
    "# Call the eval function manually inputting best aparams for clf and print evaluation results \n",
    "SVM_acc, SVM_cm, SVM_precision, SVM_recall, SVM_f1score, SVM_auc, SVM_preds = SVM_eval(x_train, \n",
    "                                                                               x_test, y_train, y_test, \n",
    "                                                                               C = 100, class_weight= {0: 1, 1: 1}, \n",
    "                                                                                       gamma= 0.001)\n",
    "print(\"SVM Accuracy:\\t\", \"%0.4f\" % SVM_acc)\n",
    "print(\"SVM Precision:\\t\", \"%0.4f\" % SVM_precision)\n",
    "print(\"SVM Recall:\\t\", \"%0.4f\" % SVM_recall)\n",
    "print(\"SVM F1 Score:\\t\", \"%0.4f\" % SVM_f1score)\n",
    "print(\"SVM AUC:\\t\", \"%0.4f\" % SVM_auc)\n",
    "SVM_cm"
   ]
  },
  {
   "cell_type": "code",
   "execution_count": null,
   "metadata": {},
   "outputs": [],
   "source": [
    "# Confusion matrix for SVM\n",
    "con = confusion_matrix(y_test, SVM_preds)\n",
    "con\n",
    "plt.figure(figsize=(8,6))\n",
    "sns.heatmap(con, cmap=\"Blues\", annot=True, fmt='g', xticklabels=('Predicted No Fraud', 'Predicted Fraud'), \n",
    "            yticklabels=('No Fraud', 'Fraud'))\n",
    "plt.xlabel(\"Predicted\")\n",
    "plt.ylabel(\"Actual\")\n",
    "plt.show()"
   ]
  },
  {
   "cell_type": "markdown",
   "metadata": {},
   "source": [
    "# XGBoost "
   ]
  },
  {
   "cell_type": "code",
   "execution_count": null,
   "metadata": {},
   "outputs": [],
   "source": [
    "# Function to perform nested grid search on XGB\n",
    "\n",
    "def XGB_nested(x_train, y_train):\n",
    "    \"\"\"Takes x_train, y_train and performs nested grid search and return best score, indicates how model will generalise \n",
    "    to unseen data\"\"\"\n",
    "\n",
    "    # Nested CV to indicate how well model will generalise to unseen data \n",
    "    clf = XGBClassifier(validate_parameters=True, eval_metric='auc', silent=True, verbosity=0)\n",
    "    param_grid = {'learning_rate': [0.00001,0.0001,0.001,0.01,0.1,0.5,1], \n",
    "                  'max_depth': [2,3,5,10,15,20,30,50],\n",
    "                 \"scale_pos_weight\": [1, 3, 5, 10]}\n",
    "    grid = GridSearchCV(clf, param_grid, cv=5, n_jobs=-1) \n",
    "    scores = cross_val_score(grid, x_train, y_train.values.ravel(), cv=5, scoring='accuracy') \n",
    "    \n",
    "    # report performance\n",
    "    return print('Average cross_val score of SVM: %.4f' % scores.mean())"
   ]
  },
  {
   "cell_type": "code",
   "execution_count": null,
   "metadata": {},
   "outputs": [],
   "source": [
    "# Function for XGB evaluation \n",
    "\n",
    "def XGB_grid(x_train, x_test, y_train, y_test):\n",
    "    \"\"\"Takes x and y and performs grid search, returns CV score, best paras from grid search, score on test set,\n",
    "    and confusion matrix\"\"\"\n",
    "    \n",
    "    clf = XGBClassifier(validate_parameters=True, eval_metric='auc', silent=True, verbosity=0)\n",
    "    \n",
    "    # Hyper-tuner parameters and print results \n",
    "    param_grid = {'learning_rate': [0.0001,0.0001,0.001,0.01,0.1,0.5,1], \n",
    "                  'max_depth': [2,3,5,10,15,20,30,50],\n",
    "                 \"scale_pos_weight\": [1, 3, 5, 10]}\n",
    "    grid = GridSearchCV(clf, param_grid, cv=5, n_jobs=-1)\n",
    "    grid.fit(x_train, y_train.values.ravel()) # fit \n",
    "    \n",
    "    # # Mean cross-validated score of the best_estimator\n",
    "    return print(\" The best cross validation score with parameter tuning for the XGB model is: \"  + np.str(\"%0.4f\" % grid.best_score_) + \n",
    "                 \"\\n The best parameters for the XGB model: \" + np.str(grid.best_params_) + \n",
    "                 \"\\n Test score: {:.4f}\".format(grid.score(x_test, y_test.values.ravel())))"
   ]
  },
  {
   "cell_type": "code",
   "execution_count": null,
   "metadata": {},
   "outputs": [],
   "source": [
    "# Function to evaluate SVM on test data \n",
    "\n",
    "def XGB_eval(x_train, x_test, y_train, y_test, learning_rate=0.001, max_depth=3, scale_pos_weight = 3):\n",
    "    \n",
    "    \"\"\"pass x_train, x_test, y_train, y_test and best params manually from printed grid result\"\"\"\n",
    "    clf = XGBClassifier(validate_parameters=True, eval_metric='auc',\n",
    "                        learning_rate=learning_rate, max_depth=max_depth, scale_pos_weight = scale_pos_weight, silent=True, verbosity=0)\n",
    "    clf.fit(x_train, y_train.values.ravel())\n",
    "    XGB_preds = clf.predict(x_test)\n",
    "    cm = confusion_matrix(y_test, XGB_preds)\n",
    "    XGB_acc = clf.score(x_test, y_test.values.ravel())\n",
    "    XGB_cm = confusion_matrix(y_test, XGB_preds)\n",
    "    XGB_precision, XGB_recall, XGB_f1score, _ = precision_recall_fscore_support(y_test, XGB_preds, average='binary')\n",
    "    XGB_auc = roc_auc_score(y_test, XGB_preds)\n",
    "    return XGB_acc, XGB_cm, XGB_precision, XGB_recall, XGB_f1score, XGB_auc, XGB_preds  "
   ]
  },
  {
   "cell_type": "code",
   "execution_count": null,
   "metadata": {
    "scrolled": true
   },
   "outputs": [],
   "source": [
    "# Perform nested CV on XGB model \n",
    "XGB_nested(x_train, y_train)\n",
    "winsound.MessageBeep()"
   ]
  },
  {
   "cell_type": "code",
   "execution_count": null,
   "metadata": {
    "scrolled": false
   },
   "outputs": [],
   "source": [
    "# Perform gridsearchCV to establish best params and test score \n",
    "XGB_grid(x_train, x_test, y_train, y_test)\n",
    "winsound.MessageBeep()"
   ]
  },
  {
   "cell_type": "code",
   "execution_count": null,
   "metadata": {},
   "outputs": [],
   "source": [
    "# Call the eval function manually inputting best aparams for clf and print evaluation results \n",
    "XGB_acc, XGB_cm, XGB_precision, XGB_recall, XGB_f1score, XGB_auc, XGB_preds = XGB_eval(x_train, \n",
    "                                                                               x_test, y_train, y_test, \n",
    "                                                                               learning_rate = 0.01, \n",
    "                                                                               max_depth = 2,\n",
    "                                                                               scale_pos_weight = 5)\n",
    "print(\"XGB Accuracy:\\t\", \"%0.4f\" % XGB_acc)\n",
    "print(\"XGB Precision:\\t\", \"%0.4f\" % XGB_precision)\n",
    "print(\"XGB Recall:\\t\", \"%0.4f\" % XGB_recall)\n",
    "print(\"XGB F1 Score:\\t\", \"%0.4f\" % XGB_f1score)\n",
    "print(\"XGB AUC:\\t\", \"%0.4f\" % XGB_auc)\n",
    "XGB_cm\n",
    "winsound.MessageBeep()"
   ]
  },
  {
   "cell_type": "code",
   "execution_count": null,
   "metadata": {
    "scrolled": false
   },
   "outputs": [],
   "source": [
    "# Confusion matrix for XGB\n",
    "con = confusion_matrix(y_test, XGB_preds)\n",
    "con\n",
    "plt.figure(figsize=(8,6))\n",
    "sns.heatmap(con, cmap=\"mako_r\", annot=True, fmt='g', xticklabels=('Predicted No Fraud', 'Predicted Fraud'), \n",
    "            yticklabels=('No Fraud', 'Fraud'))\n",
    "plt.xlabel(\"Predicted\")\n",
    "plt.ylabel(\"Actual\")\n",
    "plt.show()"
   ]
  },
  {
   "cell_type": "code",
   "execution_count": null,
   "metadata": {},
   "outputs": [],
   "source": [
    "# Create table of accuracies for data with preprocessing AND binned values  \n",
    "performance_preprossed_only = pd.DataFrame({\n",
    "    'Model' : ['Descision Tree', 'Random Forest', 'SVM', 'XGBoost'],\n",
    "    'Accuracy' : [round(DT_acc, 4), round(RF_acc, 4), round(SVM_acc, 4), round(XGB_acc, 4)],\n",
    "    'Precision' : [round(DT_precision, 4), round(RF_precision, 4), round(SVM_precision, 4), round(XGB_precision, 4)],\n",
    "    'Recall' : [round(DT_recall, 4), round(RF_recall, 4), round(SVM_recall, 4), round(XGB_recall, 4)],\n",
    "    'F1 Score' : [round(DT_f1score, 4), round(RF_f1score, 4), round(SVM_f1score, 4), round(XGB_f1score, 4)],\n",
    "    'AUC' : [round(DT_auc, 4), round(RF_auc, 4), round(SVM_auc, 4), round(XGB_auc, 4)]\n",
    "})\n",
    "performance_preprossed_only_df = performance_preprossed_only.sort_values(by='Recall', ascending=False)\n",
    "# Model_comparison_df = Model_comparison_df.set_index('Accuracy Score (%)')\n",
    "# Model_comparison_df.reset_index()\n",
    "\n",
    "#create table of results\n",
    "fig =  ff.create_table(performance_preprossed_only_df)\n",
    "fig.update_layout(\n",
    "    autosize=False,\n",
    "    width=700,\n",
    "    height=200,\n",
    ")\n",
    "fig.show()"
   ]
  },
  {
   "cell_type": "markdown",
   "metadata": {},
   "source": [
    "# Model performance with JUST preprocessing applied "
   ]
  },
  {
   "cell_type": "markdown",
   "metadata": {},
   "source": [
    "### DT "
   ]
  },
  {
   "cell_type": "code",
   "execution_count": 373,
   "metadata": {},
   "outputs": [],
   "source": [
    "x, y, x_train, x_test, y_train, y_test = train_test(df_v)"
   ]
  },
  {
   "cell_type": "code",
   "execution_count": null,
   "metadata": {},
   "outputs": [],
   "source": [
    "# Perform gridsearchCV to establish best params and test score \n",
    "DT_grid(x_train, x_test, y_train, y_test)\n",
    "winsound.MessageBeep()"
   ]
  },
  {
   "cell_type": "code",
   "execution_count": null,
   "metadata": {},
   "outputs": [],
   "source": [
    "# Call the eval function manually inputting best aparams for clf and print evaluation results \n",
    "DT1_acc, DT1_cm, DT1_precision, DT1_recall, DT1_f1score, DT1_auc, DT1_preds = DT_eval(x_train, \n",
    "                                                                               x_test, y_train, y_test, \n",
    "                                                                               criterion='entropy', max_depth=4, \n",
    "                                                                               class_weight='balanced')\n",
    "print(\"Accuracy:\\t\", \"%0.4f\" % DT1_acc)\n",
    "print(\"Precision:\\t\", \"%0.4f\" % DT1_precision)\n",
    "print(\"Recall:\\t\\t\", \"%0.4f\" % DT1_recall)\n",
    "print(\"F1 Score:\\t\", \"%0.4f\" % DT1_f1score)\n",
    "print(\"AUC:\\t\\t\", \"%0.4f\" % DT1_auc)\n",
    "DT1_cm\n",
    "winsound.MessageBeep()"
   ]
  },
  {
   "cell_type": "code",
   "execution_count": null,
   "metadata": {},
   "outputs": [],
   "source": [
    "con = confusion_matrix(y_test, DT1_preds)\n",
    "con\n",
    "plt.figure(figsize=(8,6))\n",
    "sns.heatmap(con, cmap=\"coolwarm\", annot=True, fmt='g', xticklabels=('Predicted No Fraud', 'Predicted Fraud'), \n",
    "            yticklabels=('No Fraud', 'Fraud'))\n",
    "plt.xlabel(\"Predicted\")\n",
    "plt.ylabel(\"Actual\")\n",
    "plt.show()"
   ]
  },
  {
   "cell_type": "markdown",
   "metadata": {},
   "source": [
    "### RF "
   ]
  },
  {
   "cell_type": "code",
   "execution_count": null,
   "metadata": {
    "scrolled": true
   },
   "outputs": [],
   "source": [
    "# Perform gridsearchCV to establish best params and test score \n",
    "RF_grid(x_train, x_test, y_train, y_test)\n",
    "winsound.MessageBeep()"
   ]
  },
  {
   "cell_type": "code",
   "execution_count": null,
   "metadata": {},
   "outputs": [],
   "source": [
    "# Call the eval function manually inputting best aparams for clf and print evaluation results \n",
    "RF1_acc, RF1_cm, RF1_precision, RF1_recall, RF1_f1score, RF1_auc, RF1_preds = RF_eval(x_train, \n",
    "                                                                               x_test, y_train, y_test, \n",
    "                                                                               criterion='gini', max_depth=4, \n",
    "                                                                               class_weight='balanced')\n",
    "print(\"RF Accuracy:\\t\", \"%0.4f\" % RF1_acc)\n",
    "print(\"RF Precision:\\t\", \"%0.4f\" % RF1_precision)\n",
    "print(\"RF Recall:\\t\", \"%0.4f\" % RF1_recall)\n",
    "print(\"RF F1 Score:\\t\", \"%0.4f\" % RF1_f1score)\n",
    "print(\"RF AUC:\\t\\t\", \"%0.4f\" % RF1_auc)\n",
    "RF1_cm"
   ]
  },
  {
   "cell_type": "code",
   "execution_count": null,
   "metadata": {},
   "outputs": [],
   "source": [
    "# Confusion matrix for RF\n",
    "con = confusion_matrix(y_test, RF1_preds)\n",
    "con\n",
    "plt.figure(figsize=(8,6))\n",
    "sns.heatmap(con, cmap=\"Greys\", annot=True, fmt='g', xticklabels=('Predicted No Fraud', 'Predicted Fraud'), \n",
    "            yticklabels=('No Fraud', 'Fraud'))\n",
    "plt.xlabel(\"Predicted\")\n",
    "plt.ylabel(\"Actual\")\n",
    "plt.show()"
   ]
  },
  {
   "cell_type": "markdown",
   "metadata": {},
   "source": [
    "### SVM "
   ]
  },
  {
   "cell_type": "code",
   "execution_count": null,
   "metadata": {},
   "outputs": [],
   "source": [
    "# Perform gridsearchCV to establish best params and test score \n",
    "SVM_grid(x_train, x_test, y_train, y_test)\n",
    "winsound.MessageBeep()"
   ]
  },
  {
   "cell_type": "code",
   "execution_count": null,
   "metadata": {},
   "outputs": [],
   "source": [
    "# Call the eval function manually inputting best aparams for clf and print evaluation results \n",
    "SVM1_acc, SVM1_cm, SVM1_precision, SVM1_recall, SVM1_f1score, SVM1_auc, SVM1_preds = SVM_eval(x_train, \n",
    "                                                                               x_test, y_train, y_test, \n",
    "                                                                               C = 100, class_weight= {0: 1, 1: 1}, \n",
    "                                                                                       gamma= 0.001)\n",
    "print(\"SVM Accuracy:\\t\", \"%0.4f\" % SVM1_acc)\n",
    "print(\"SVM Precision:\\t\", \"%0.4f\" % SVM1_precision)\n",
    "print(\"SVM Recall:\\t\", \"%0.4f\" % SVM1_recall)\n",
    "print(\"SVM F1 Score:\\t\", \"%0.4f\" % SVM1_f1score)\n",
    "print(\"SVM AUC:\\t\", \"%0.4f\" % SVM1_auc)\n",
    "SVM1_cm"
   ]
  },
  {
   "cell_type": "code",
   "execution_count": null,
   "metadata": {},
   "outputs": [],
   "source": [
    "# Confusion matrix for SVM\n",
    "con = confusion_matrix(y_test, SVM1_preds)\n",
    "con\n",
    "plt.figure(figsize=(8,6))\n",
    "sns.heatmap(con, cmap=\"Blues\", annot=True, fmt='g', xticklabels=('Predicted No Fraud', 'Predicted Fraud'), \n",
    "            yticklabels=('No Fraud', 'Fraud'))\n",
    "plt.xlabel(\"Predicted\")\n",
    "plt.ylabel(\"Actual\")\n",
    "plt.show()"
   ]
  },
  {
   "cell_type": "markdown",
   "metadata": {},
   "source": [
    "### XGB"
   ]
  },
  {
   "cell_type": "code",
   "execution_count": null,
   "metadata": {},
   "outputs": [],
   "source": [
    "# Perform gridsearchCV to establish best params and test score \n",
    "XGB_grid(x_train, x_test, y_train, y_test)\n",
    "winsound.MessageBeep()"
   ]
  },
  {
   "cell_type": "code",
   "execution_count": null,
   "metadata": {},
   "outputs": [],
   "source": [
    "# Call the eval function manually inputting best aparams for clf and print evaluation results \n",
    "XGB1_acc, XGB1_cm, XGB1_precision, XGB1_recall, XGB1_f1score, XGB1_auc, XGB1_preds = XGB_eval(x_train, \n",
    "                                                                               x_test, y_train, y_test, \n",
    "                                                                               learning_rate = 0.01, \n",
    "                                                                               max_depth = 2,\n",
    "                                                                               scale_pos_weight = 5)\n",
    "print(\"XGB Accuracy:\\t\", \"%0.4f\" % XGB1_acc)\n",
    "print(\"XGB Precision:\\t\", \"%0.4f\" % XGB1_precision)\n",
    "print(\"XGB Recall:\\t\", \"%0.4f\" % XGB1_recall)\n",
    "print(\"XGB F1 Score:\\t\", \"%0.4f\" % XGB1_f1score)\n",
    "print(\"XGB AUC:\\t\", \"%0.4f\" % XGB1_auc)\n",
    "XGB1_cm\n",
    "winsound.MessageBeep()"
   ]
  },
  {
   "cell_type": "code",
   "execution_count": null,
   "metadata": {
    "scrolled": true
   },
   "outputs": [],
   "source": [
    "# Confusion matrix for XGB\n",
    "con = confusion_matrix(y_test, XGB1_preds)\n",
    "con\n",
    "plt.figure(figsize=(8,6))\n",
    "sns.heatmap(con, cmap=\"mako_r\", annot=True, fmt='g', xticklabels=('Predicted No Fraud', 'Predicted Fraud'), \n",
    "            yticklabels=('No Fraud', 'Fraud'))\n",
    "plt.xlabel(\"Predicted\")\n",
    "plt.ylabel(\"Actual\")\n",
    "plt.show()"
   ]
  },
  {
   "cell_type": "code",
   "execution_count": null,
   "metadata": {
    "scrolled": true
   },
   "outputs": [],
   "source": [
    "# Create table of accuracies for data with PREPROCESSING AND BINNED VALUES\n",
    "performance_preprossed_only = pd.DataFrame({\n",
    "    'Model' : ['Descision Tree', 'Random Forest', 'SVM', 'XGBoost'],\n",
    "    'Accuracy' : [round(DT1_acc, 4), round(RF1_acc, 4), round(SVM1_acc, 4), round(XGB1_acc, 4)],\n",
    "    'Precision' : [round(DT1_precision, 4), round(RF1_precision, 4), round(SVM1_precision, 4), round(XGB1_precision, 4)],\n",
    "    'Recall' : [round(DT1_recall, 4), round(RF1_recall, 4), round(SVM1_recall, 4), round(XGB1_recall, 4)],\n",
    "    'F1 Score' : [round(DT1_f1score, 4), round(RF1_f1score, 4), round(SVM1_f1score, 4), round(XGB1_f1score, 4)],\n",
    "    'AUC' : [round(DT1_auc, 4), round(RF1_auc, 4), round(SVM1_auc, 4), round(XGB1_auc, 4)]\n",
    "})\n",
    "performance_preprossed_only_df = performance_preprossed_only.sort_values(by='Recall', ascending=False)\n",
    "# Model_comparison_df = Model_comparison_df.set_index('Accuracy Score (%)')\n",
    "# Model_comparison_df.reset_index()\n",
    "\n",
    "#create table of results\n",
    "fig =  ff.create_table(performance_preprossed_only_df)\n",
    "fig.update_layout(\n",
    "    autosize=False,\n",
    "    width=700,\n",
    "    height=200,\n",
    ")\n",
    "fig.show()"
   ]
  },
  {
   "cell_type": "markdown",
   "metadata": {},
   "source": [
    "# Performance with preprocessing, binned values and ALL dummy variables "
   ]
  },
  {
   "cell_type": "code",
   "execution_count": null,
   "metadata": {},
   "outputs": [],
   "source": [
    "x, y, x_train, x_test, y_train, y_test = train_test(df_all)"
   ]
  },
  {
   "cell_type": "markdown",
   "metadata": {},
   "source": [
    "### DT"
   ]
  },
  {
   "cell_type": "code",
   "execution_count": null,
   "metadata": {},
   "outputs": [],
   "source": [
    "# Perform gridsearchCV to establish best params and test score \n",
    "DT_grid(x_train, x_test, y_train, y_test)\n",
    "winsound.MessageBeep()"
   ]
  },
  {
   "cell_type": "code",
   "execution_count": null,
   "metadata": {},
   "outputs": [],
   "source": [
    "# Call the eval function manually inputting best aparams for clf and print evaluation results \n",
    "DT2_acc, DT2_cm, DT2_precision, DT2_recall, DT2_f1score, DT2_auc, DT2_preds = DT_eval(x_train, \n",
    "                                                                               x_test, y_train, y_test, \n",
    "                                                                               criterion='entropy', max_depth=4, \n",
    "                                                                               class_weight={0: 1, 1: 5})\n",
    "print(\"Accuracy:\\t\", \"%0.4f\" % DT2_acc)\n",
    "print(\"Precision:\\t\", \"%0.4f\" % DT2_precision)\n",
    "print(\"Recall:\\t\\t\", \"%0.4f\" % DT2_recall)\n",
    "print(\"F1 Score:\\t\", \"%0.4f\" % DT2_f1score)\n",
    "print(\"AUC:\\t\\t\", \"%0.4f\" % DT2_auc)\n",
    "DT2_cm"
   ]
  },
  {
   "cell_type": "code",
   "execution_count": null,
   "metadata": {},
   "outputs": [],
   "source": [
    "con = confusion_matrix(y_test, DT2_preds)\n",
    "con\n",
    "plt.figure(figsize=(8,6))\n",
    "sns.heatmap(con, cmap=\"coolwarm\", annot=True, fmt='g', xticklabels=('Predicted No Fraud', 'Predicted Fraud'), \n",
    "            yticklabels=('No Fraud', 'Fraud'))\n",
    "plt.xlabel(\"Predicted\")\n",
    "plt.ylabel(\"Actual\")\n",
    "plt.show()"
   ]
  },
  {
   "cell_type": "markdown",
   "metadata": {},
   "source": [
    "### RF"
   ]
  },
  {
   "cell_type": "code",
   "execution_count": null,
   "metadata": {},
   "outputs": [],
   "source": [
    "# Perform gridsearchCV to establish best params and test score \n",
    "RF_grid(x_train, x_test, y_train, y_test)\n",
    "winsound.MessageBeep()"
   ]
  },
  {
   "cell_type": "code",
   "execution_count": null,
   "metadata": {},
   "outputs": [],
   "source": [
    "# Call the eval function manually inputting best aparams for clf and print evaluation results \n",
    "RF2_acc, RF2_cm, RF2_precision, RF2_recall, RF2_f1score, RF2_auc, RF2_preds = RF_eval(x_train, \n",
    "                                                                               x_test, y_train, y_test, \n",
    "                                                                               criterion='gini', max_depth=2, \n",
    "                                                                               class_weight='balanced')\n",
    "print(\"RF Accuracy:\\t\", \"%0.4f\" % RF2_acc)\n",
    "print(\"RF Precision:\\t\", \"%0.4f\" % RF2_precision)\n",
    "print(\"RF Recall:\\t\", \"%0.4f\" % RF2_recall)\n",
    "print(\"RF F1 Score:\\t\", \"%0.4f\" % RF2_f1score)\n",
    "print(\"RF AUC:\\t\\t\", \"%0.4f\" % RF2_auc)\n",
    "RF2_cm"
   ]
  },
  {
   "cell_type": "code",
   "execution_count": null,
   "metadata": {},
   "outputs": [],
   "source": [
    "# Confusion matrix for RF\n",
    "con = confusion_matrix(y_test, RF2_preds)\n",
    "con\n",
    "plt.figure(figsize=(8,6))\n",
    "sns.heatmap(con, cmap=\"Greys\", annot=True, fmt='g', xticklabels=('Predicted No Fraud', 'Predicted Fraud'), \n",
    "            yticklabels=('No Fraud', 'Fraud'))\n",
    "plt.xlabel(\"Predicted\")\n",
    "plt.ylabel(\"Actual\")\n",
    "plt.show()"
   ]
  },
  {
   "cell_type": "markdown",
   "metadata": {},
   "source": [
    "### SVM"
   ]
  },
  {
   "cell_type": "code",
   "execution_count": null,
   "metadata": {},
   "outputs": [],
   "source": [
    "# Perform gridsearchCV to establish best params and test score \n",
    "SVM_grid(x_train, x_test, y_train, y_test)\n",
    "winsound.MessageBeep()"
   ]
  },
  {
   "cell_type": "code",
   "execution_count": null,
   "metadata": {},
   "outputs": [],
   "source": [
    "# Call the eval function manually inputting best aparams for clf and print evaluation results \n",
    "SVM2_acc, SVM2_cm, SVM2_precision, SVM2_recall, SVM2_f1score, SVM2_auc, SVM2_preds = SVM_eval(x_train, \n",
    "                                                                               x_test, y_train, y_test, \n",
    "                                                                               C = 10, class_weight= {0: 1, 1: 10}, \n",
    "                                                                               gamma= 0.001)\n",
    "print(\"SVM Accuracy:\\t\", \"%0.4f\" % SVM2_acc)\n",
    "print(\"SVM Precision:\\t\", \"%0.4f\" % SVM2_precision)\n",
    "print(\"SVM Recall:\\t\", \"%0.4f\" % SVM2_recall)\n",
    "print(\"SVM F1 Score:\\t\", \"%0.4f\" % SVM2_f1score)\n",
    "print(\"SVM AUC:\\t\", \"%0.4f\" % SVM2_auc)\n",
    "SVM2_cm"
   ]
  },
  {
   "cell_type": "code",
   "execution_count": null,
   "metadata": {},
   "outputs": [],
   "source": [
    "# Confusion matrix for SVM\n",
    "con = confusion_matrix(y_test, SVM2_preds)\n",
    "con\n",
    "plt.figure(figsize=(8,6))\n",
    "sns.heatmap(con, cmap=\"Blues\", annot=True, fmt='g', xticklabels=('Predicted No Fraud', 'Predicted Fraud'), \n",
    "            yticklabels=('No Fraud', 'Fraud'))\n",
    "plt.xlabel(\"Predicted\")\n",
    "plt.ylabel(\"Actual\")\n",
    "plt.show()"
   ]
  },
  {
   "cell_type": "markdown",
   "metadata": {},
   "source": [
    "### XGB"
   ]
  },
  {
   "cell_type": "code",
   "execution_count": null,
   "metadata": {
    "scrolled": true
   },
   "outputs": [],
   "source": [
    "# Perform gridsearchCV to establish best params and test score \n",
    "XGB_grid(x_train, x_test, y_train, y_test)\n",
    "winsound.MessageBeep()"
   ]
  },
  {
   "cell_type": "code",
   "execution_count": null,
   "metadata": {},
   "outputs": [],
   "source": [
    "# Call the eval function manually inputting best aparams for clf and print evaluation results \n",
    "XGB2_acc, XGB2_cm, XGB2_precision, XGB2_recall, XGB2_f1score, XGB2_auc, XGB2_preds = XGB_eval(x_train, \n",
    "                                                                               x_test, y_train, y_test, \n",
    "                                                                               learning_rate = 0.01, max_depth = 2,\n",
    "                                                                                             scale_pos_weight=10)\n",
    "print(\"XGB Accuracy:\\t\", \"%0.4f\" % XGB2_acc)\n",
    "print(\"XGB Precision:\\t\", \"%0.4f\" % XGB2_precision)\n",
    "print(\"XGB Recall:\\t\", \"%0.4f\" % XGB2_recall)\n",
    "print(\"XGB F1 Score:\\t\", \"%0.4f\" % XGB2_f1score)\n",
    "print(\"XGB AUC:\\t\", \"%0.4f\" % XGB2_auc)\n",
    "XGB2_cm"
   ]
  },
  {
   "cell_type": "code",
   "execution_count": null,
   "metadata": {},
   "outputs": [],
   "source": [
    "# Confusion matrix for XGB\n",
    "con = confusion_matrix(y_test, XGB2_preds)\n",
    "con\n",
    "plt.figure(figsize=(8,6))\n",
    "sns.heatmap(con, cmap=\"mako_r\", annot=True, fmt='g', xticklabels=('Predicted No Fraud', 'Predicted Fraud'), \n",
    "            yticklabels=('No Fraud', 'Fraud'))\n",
    "plt.xlabel(\"Predicted\")\n",
    "plt.ylabel(\"Actual\")\n",
    "plt.show()"
   ]
  },
  {
   "cell_type": "code",
   "execution_count": null,
   "metadata": {},
   "outputs": [],
   "source": [
    "# Create table of accuracies for data with PREPROCESSING AND BINNED VALUES\n",
    "performance_preprossed_only = pd.DataFrame({\n",
    "    'Model' : ['Descision Tree', 'Random Forest', 'SVM', 'XGBoost'],\n",
    "    'Accuracy' : [round(DT2_acc, 4), round(RF2_acc, 4), round(SVM2_acc, 4), round(XGB2_acc, 4)],\n",
    "    'Precision' : [round(DT2_precision, 4), round(RF2_precision, 4), round(SVM2_precision, 4), round(XGB2_precision, 4)],\n",
    "    'Recall' : [round(DT2_recall, 4), round(RF2_recall, 4), round(SVM2_recall, 4), round(XGB2_recall, 4)],\n",
    "    'F1 Score' : [round(DT2_f1score, 4), round(RF2_f1score, 4), round(SVM2_f1score, 4), round(XGB2_f1score, 4)],\n",
    "    'AUC' : [round(DT2_auc, 4), round(RF2_auc, 4), round(SVM2_auc, 4), round(XGB2_auc, 4)]\n",
    "})\n",
    "performance_preprossed_only_df = performance_preprossed_only.sort_values(by='Recall', ascending=False)\n",
    "# Model_comparison_df = Model_comparison_df.set_index('Accuracy Score (%)')\n",
    "# Model_comparison_df.reset_index()\n",
    "\n",
    "#create table of results\n",
    "fig =  ff.create_table(performance_preprossed_only_df)\n",
    "fig.update_layout(\n",
    "    autosize=False,\n",
    "    width=700,\n",
    "    height=200,\n",
    ")\n",
    "fig.show()"
   ]
  },
  {
   "cell_type": "markdown",
   "metadata": {},
   "source": [
    "# Performance on preprocessed data, with get dummies on all binned data "
   ]
  },
  {
   "cell_type": "markdown",
   "metadata": {},
   "source": [
    "### DT"
   ]
  },
  {
   "cell_type": "code",
   "execution_count": null,
   "metadata": {},
   "outputs": [],
   "source": [
    "x, y, x_train, x_test, y_train, y_test = train_test(df_binned)"
   ]
  },
  {
   "cell_type": "code",
   "execution_count": null,
   "metadata": {},
   "outputs": [],
   "source": [
    "# Perform gridsearchCV to establish best params and test score \n",
    "DT_grid(x_train, x_test, y_train, y_test)\n",
    "winsound.MessageBeep()"
   ]
  },
  {
   "cell_type": "code",
   "execution_count": null,
   "metadata": {},
   "outputs": [],
   "source": [
    "# Call the eval function manually inputting best aparams for clf and print evaluation results \n",
    "DT3_acc, DT3_cm, DT3_precision, DT3_recall, DT3_f1score, DT3_auc, DT3_preds = DT_eval(x_train, \n",
    "                                                                               x_test, y_train, y_test, \n",
    "                                                                               criterion='entropy', max_depth=4, \n",
    "                                                                               class_weight={0: 1, 1: 5})\n",
    "print(\"Accuracy:\\t\", \"%0.4f\" % DT3_acc)\n",
    "print(\"Precision:\\t\", \"%0.4f\" % DT3_precision)\n",
    "print(\"Recall:\\t\\t\", \"%0.4f\" % DT3_recall)\n",
    "print(\"F1 Score:\\t\", \"%0.4f\" % DT3_f1score)\n",
    "print(\"AUC:\\t\\t\", \"%0.4f\" % DT3_auc)\n",
    "DT3_cm"
   ]
  },
  {
   "cell_type": "code",
   "execution_count": null,
   "metadata": {},
   "outputs": [],
   "source": [
    "con = confusion_matrix(y_test, DT3_preds)\n",
    "con\n",
    "plt.figure(figsize=(8,6))\n",
    "sns.heatmap(con, cmap=\"coolwarm\", annot=True, fmt='g', xticklabels=('Predicted No Fraud', 'Predicted Fraud'), \n",
    "            yticklabels=('No Fraud', 'Fraud'))\n",
    "plt.xlabel(\"Predicted\")\n",
    "plt.ylabel(\"Actual\")\n",
    "plt.show()"
   ]
  },
  {
   "cell_type": "markdown",
   "metadata": {},
   "source": [
    "### RF"
   ]
  },
  {
   "cell_type": "code",
   "execution_count": null,
   "metadata": {},
   "outputs": [],
   "source": [
    "# Perform gridsearchCV to establish best params and test score \n",
    "RF_grid(x_train, x_test, y_train, y_test)\n",
    "winsound.MessageBeep()"
   ]
  },
  {
   "cell_type": "code",
   "execution_count": null,
   "metadata": {},
   "outputs": [],
   "source": [
    "# Call the eval function manually inputting best aparams for clf and print evaluation results \n",
    "RF3_acc, RF3_cm, RF3_precision, RF3_recall, RF3_f1score, RF3_auc, RF3_preds = RF_eval(x_train, \n",
    "                                                                               x_test, y_train, y_test, \n",
    "                                                                               criterion='entropy', max_depth=8, \n",
    "                                                                               class_weight={0: 1, 1: 5})\n",
    "print(\"RF Accuracy:\\t\", \"%0.4f\" % RF3_acc)\n",
    "print(\"RF Precision:\\t\", \"%0.4f\" % RF3_precision)\n",
    "print(\"RF Recall:\\t\", \"%0.4f\" % RF3_recall)\n",
    "print(\"RF F1 Score:\\t\", \"%0.4f\" % RF3_f1score)\n",
    "print(\"RF AUC:\\t\\t\", \"%0.4f\" % RF3_auc)\n",
    "RF3_cm"
   ]
  },
  {
   "cell_type": "code",
   "execution_count": null,
   "metadata": {},
   "outputs": [],
   "source": [
    "# Confusion matrix for RF\n",
    "con = confusion_matrix(y_test, RF3_preds)\n",
    "con\n",
    "plt.figure(figsize=(8,6))\n",
    "sns.heatmap(con, cmap=\"Greys\", annot=True, fmt='g', xticklabels=('Predicted No Fraud', 'Predicted Fraud'), \n",
    "            yticklabels=('No Fraud', 'Fraud'))\n",
    "plt.xlabel(\"Predicted\")\n",
    "plt.ylabel(\"Actual\")\n",
    "plt.show()"
   ]
  },
  {
   "cell_type": "markdown",
   "metadata": {},
   "source": [
    "### SVM"
   ]
  },
  {
   "cell_type": "code",
   "execution_count": null,
   "metadata": {},
   "outputs": [],
   "source": [
    "# Perform gridsearchCV to establish best params and test score \n",
    "SVM_grid(x_train, x_test, y_train, y_test)\n",
    "winsound.MessageBeep()"
   ]
  },
  {
   "cell_type": "code",
   "execution_count": null,
   "metadata": {},
   "outputs": [],
   "source": [
    "# Call the eval function manually inputting best aparams for clf and print evaluation results \n",
    "SVM3_acc, SVM3_cm, SVM3_precision, SVM3_recall, SVM3_f1score, SVM3_auc, SVM3_preds = SVM_eval(x_train, \n",
    "                                                                               x_test, y_train, y_test, \n",
    "                                                                               C = 100, class_weight= {0: 1, 1: 10}, \n",
    "                                                                                       gamma= 0.001)\n",
    "print(\"SVM Accuracy:\\t\", \"%0.4f\" % SVM3_acc)\n",
    "print(\"SVM Precision:\\t\", \"%0.4f\" % SVM3_precision)\n",
    "print(\"SVM Recall:\\t\", \"%0.4f\" % SVM3_recall)\n",
    "print(\"SVM F1 Score:\\t\", \"%0.4f\" % SVM3_f1score)\n",
    "print(\"SVM AUC:\\t\", \"%0.4f\" % SVM3_auc)\n",
    "SVM3_cm"
   ]
  },
  {
   "cell_type": "code",
   "execution_count": null,
   "metadata": {},
   "outputs": [],
   "source": [
    "# Confusion matrix for SVM\n",
    "con = confusion_matrix(y_test, SVM3_preds)\n",
    "con\n",
    "plt.figure(figsize=(8,6))\n",
    "sns.heatmap(con, cmap=\"Blues\", annot=True, fmt='g', xticklabels=('Predicted No Fraud', 'Predicted Fraud'), \n",
    "            yticklabels=('No Fraud', 'Fraud'))\n",
    "plt.xlabel(\"Predicted\")\n",
    "plt.ylabel(\"Actual\")\n",
    "plt.show()"
   ]
  },
  {
   "cell_type": "markdown",
   "metadata": {},
   "source": [
    "### XGB "
   ]
  },
  {
   "cell_type": "code",
   "execution_count": null,
   "metadata": {},
   "outputs": [],
   "source": [
    "# Perform gridsearchCV to establish best params and test score \n",
    "XGB_grid(x_train, x_test, y_train, y_test)\n",
    "winsound.MessageBeep()"
   ]
  },
  {
   "cell_type": "code",
   "execution_count": null,
   "metadata": {},
   "outputs": [],
   "source": [
    "# Call the eval function manually inputting best aparams for clf and print evaluation results \n",
    "XGB3_acc, XGB3_cm, XGB3_precision, XGB3_recall, XGB3_f1score, XGB3_auc, XGB3_preds = XGB_eval(x_train, \n",
    "                                                                               x_test, y_train, y_test, \n",
    "                                                                               learning_rate = 0.001, max_depth = 3,\n",
    "                                                                                             scale_pos_weight=3)\n",
    "print(\"XGB Accuracy:\\t\", \"%0.4f\" % XGB3_acc)\n",
    "print(\"XGB Precision:\\t\", \"%0.4f\" % XGB3_precision)\n",
    "print(\"XGB Recall:\\t\", \"%0.4f\" % XGB3_recall)\n",
    "print(\"XGB F1 Score:\\t\", \"%0.4f\" % XGB3_f1score)\n",
    "print(\"XGB AUC:\\t\", \"%0.4f\" % XGB3_auc)\n",
    "XGB3_cm"
   ]
  },
  {
   "cell_type": "code",
   "execution_count": null,
   "metadata": {},
   "outputs": [],
   "source": [
    "# Confusion matrix for XGB\n",
    "con = confusion_matrix(y_test, XGB3_preds)\n",
    "con\n",
    "plt.figure(figsize=(8,6))\n",
    "sns.heatmap(con, cmap=\"mako_r\", annot=True, fmt='g', xticklabels=('Predicted No Fraud', 'Predicted Fraud'), \n",
    "            yticklabels=('No Fraud', 'Fraud'))\n",
    "plt.xlabel(\"Predicted\")\n",
    "plt.ylabel(\"Actual\")\n",
    "plt.show()"
   ]
  },
  {
   "cell_type": "code",
   "execution_count": null,
   "metadata": {
    "scrolled": true
   },
   "outputs": [],
   "source": [
    "# Create table of accuracies for data with PREPROCESSING AND BINNED VALUES\n",
    "performance_preprossed_only = pd.DataFrame({\n",
    "    'Model' : ['Descision Tree', 'Random Forest', 'SVM', 'XGBoost'],\n",
    "    'Accuracy' : [round(DT3_acc, 4), round(RF3_acc, 4), round(SVM3_acc, 4), round(XGB3_acc, 4)],\n",
    "    'Precision' : [round(DT3_precision, 4), round(RF3_precision, 4), round(SVM3_precision, 4), round(XGB3_precision, 4)],\n",
    "    'Recall' : [round(DT3_recall, 4), round(RF3_recall, 4), round(SVM3_recall, 4), round(XGB3_recall, 4)],\n",
    "    'F1 Score' : [round(DT3_f1score, 4), round(RF3_f1score, 4), round(SVM3_f1score, 4), round(XGB3_f1score, 4)],\n",
    "    'AUC' : [round(DT3_auc, 4), round(RF3_auc, 4), round(SVM3_auc, 4), round(XGB3_auc, 4)]\n",
    "})\n",
    "performance_preprossed_only_df = performance_preprossed_only.sort_values(by='Accuracy', ascending=False)\n",
    "# Model_comparison_df = Model_comparison_df.set_index('Accuracy Score (%)')\n",
    "# Model_comparison_df.reset_index()\n",
    "\n",
    "#create table of results\n",
    "fig =  ff.create_table(performance_preprossed_only_df)\n",
    "fig.update_layout(\n",
    "    autosize=False,\n",
    "    width=700,\n",
    "    height=200,\n",
    ")\n",
    "fig.show()"
   ]
  },
  {
   "cell_type": "markdown",
   "metadata": {},
   "source": [
    "# Performance on data with preprocessing and dummy variables on only the unbinned features "
   ]
  },
  {
   "cell_type": "markdown",
   "metadata": {},
   "source": [
    "### DT"
   ]
  },
  {
   "cell_type": "code",
   "execution_count": null,
   "metadata": {},
   "outputs": [],
   "source": [
    "x, y, x_train, x_test, y_train, y_test = train_test(df_unbinned)"
   ]
  },
  {
   "cell_type": "code",
   "execution_count": null,
   "metadata": {},
   "outputs": [],
   "source": [
    "# Perform gridsearchCV to establish best params and test score \n",
    "DT_grid(x_train, x_test, y_train, y_test)"
   ]
  },
  {
   "cell_type": "code",
   "execution_count": null,
   "metadata": {},
   "outputs": [],
   "source": [
    "# Call the eval function manually inputting best aparams for clf and print evaluation results \n",
    "DT4_acc, DT4_cm, DT4_precision, DT4_recall, DT4_f1score, DT4_auc, DT4_preds = DT_eval(x_train, \n",
    "                                                                               x_test, y_train, y_test, \n",
    "                                                                               criterion='gini', max_depth=4, \n",
    "                                                                               class_weight={0: 1, 1: 5})\n",
    "print(\"Accuracy:\\t\", \"%0.4f\" % DT4_acc)\n",
    "print(\"Precision:\\t\", \"%0.4f\" % DT4_precision)\n",
    "print(\"Recall:\\t\\t\", \"%0.4f\" % DT4_recall)\n",
    "print(\"F1 Score:\\t\", \"%0.4f\" % DT4_f1score)\n",
    "print(\"AUC:\\t\\t\", \"%0.4f\" % DT4_auc)\n",
    "DT4_cm"
   ]
  },
  {
   "cell_type": "code",
   "execution_count": null,
   "metadata": {},
   "outputs": [],
   "source": [
    "con = confusion_matrix(y_test, DT4_preds)\n",
    "con\n",
    "plt.figure(figsize=(8,6))\n",
    "sns.heatmap(con, cmap=\"coolwarm\", annot=True, fmt='g', xticklabels=('Predicted No Fraud', 'Predicted Fraud'), \n",
    "            yticklabels=('No Fraud', 'Fraud'))\n",
    "plt.xlabel(\"Predicted\")\n",
    "plt.ylabel(\"Actual\")\n",
    "plt.show()"
   ]
  },
  {
   "cell_type": "markdown",
   "metadata": {},
   "source": [
    "### RF"
   ]
  },
  {
   "cell_type": "code",
   "execution_count": null,
   "metadata": {},
   "outputs": [],
   "source": [
    "# Perform gridsearchCV to establish best params and test score \n",
    "RF_grid(x_train, x_test, y_train, y_test)\n",
    "winsound.MessageBeep()"
   ]
  },
  {
   "cell_type": "code",
   "execution_count": null,
   "metadata": {},
   "outputs": [],
   "source": [
    "# Call the eval function manually inputting best aparams for clf and print evaluation results \n",
    "RF4_acc, RF4_cm, RF4_precision, RF4_recall, RF4_f1score, RF4_auc, RF4_preds = RF_eval(x_train, \n",
    "                                                                               x_test, y_train, y_test, \n",
    "                                                                               criterion='gini', max_depth=6, \n",
    "                                                                               class_weight={0: 1, 1: 5})\n",
    "print(\"RF Accuracy:\\t\", \"%0.4f\" % RF4_acc)\n",
    "print(\"RF Precision:\\t\", \"%0.4f\" % RF4_precision)\n",
    "print(\"RF Recall:\\t\", \"%0.4f\" % RF4_recall)\n",
    "print(\"RF F1 Score:\\t\", \"%0.4f\" % RF4_f1score)\n",
    "print(\"RF AUC:\\t\\t\", \"%0.4f\" % RF4_auc)\n",
    "RF4_cm"
   ]
  },
  {
   "cell_type": "code",
   "execution_count": null,
   "metadata": {},
   "outputs": [],
   "source": [
    "# Confusion matrix for RF\n",
    "con = confusion_matrix(y_test, RF4_preds)\n",
    "con\n",
    "plt.figure(figsize=(8,6))\n",
    "sns.heatmap(con, cmap=\"Greys\", annot=True, fmt='g', xticklabels=('Predicted No Fraud', 'Predicted Fraud'), \n",
    "            yticklabels=('No Fraud', 'Fraud'))\n",
    "plt.xlabel(\"Predicted\")\n",
    "plt.ylabel(\"Actual\")\n",
    "plt.show()"
   ]
  },
  {
   "cell_type": "markdown",
   "metadata": {},
   "source": [
    "### SVM "
   ]
  },
  {
   "cell_type": "code",
   "execution_count": null,
   "metadata": {},
   "outputs": [],
   "source": [
    "# Perform gridsearchCV to establish best params and test score \n",
    "SVM_grid(x_train, x_test, y_train, y_test)\n",
    "winsound.MessageBeep()"
   ]
  },
  {
   "cell_type": "code",
   "execution_count": null,
   "metadata": {},
   "outputs": [],
   "source": [
    "# Call the eval function manually inputting best aparams for clf and print evaluation results \n",
    "SVM4_acc, SVM4_cm, SVM4_precision, SVM4_recall, SVM4_f1score, SVM4_auc, SVM4_preds = SVM_eval(x_train, \n",
    "                                                                               x_test, y_train, y_test, \n",
    "                                                                               C = 10, class_weight= {0: 1, 1: 10}, \n",
    "                                                                                       gamma= 0.001)\n",
    "print(\"SVM Accuracy:\\t\", \"%0.4f\" % SVM4_acc)\n",
    "print(\"SVM Precision:\\t\", \"%0.4f\" % SVM4_precision)\n",
    "print(\"SVM Recall:\\t\", \"%0.4f\" % SVM4_recall)\n",
    "print(\"SVM F1 Score:\\t\", \"%0.4f\" % SVM4_f1score)\n",
    "print(\"SVM AUC:\\t\", \"%0.4f\" % SVM4_auc)\n",
    "SVM4_cm"
   ]
  },
  {
   "cell_type": "code",
   "execution_count": null,
   "metadata": {},
   "outputs": [],
   "source": [
    "# Confusion matrix for SVM\n",
    "con = confusion_matrix(y_test, SVM4_preds)\n",
    "con\n",
    "plt.figure(figsize=(8,6))\n",
    "sns.heatmap(con, cmap=\"Blues\", annot=True, fmt='g', xticklabels=('Predicted No Fraud', 'Predicted Fraud'), \n",
    "            yticklabels=('No Fraud', 'Fraud'))\n",
    "plt.xlabel(\"Predicted\")\n",
    "plt.ylabel(\"Actual\")\n",
    "plt.show()"
   ]
  },
  {
   "cell_type": "markdown",
   "metadata": {},
   "source": [
    "### XGB"
   ]
  },
  {
   "cell_type": "code",
   "execution_count": null,
   "metadata": {},
   "outputs": [],
   "source": [
    "# Perform gridsearchCV to establish best params and test score \n",
    "XGB_grid(x_train, x_test, y_train, y_test)\n",
    "winsound.MessageBeep()"
   ]
  },
  {
   "cell_type": "code",
   "execution_count": null,
   "metadata": {},
   "outputs": [],
   "source": [
    "# Call the eval function manually inputting best aparams for clf and print evaluation results \n",
    "XGB4_acc, XGB4_cm, XGB4_precision, XGB4_recall, XGB4_f1score, XGB4_auc, XGB4_preds = XGB_eval(x_train, \n",
    "                                                                               x_test, y_train, y_test, \n",
    "                                                                               learning_rate = 0.01, max_depth = 2,\n",
    "                                                                                             scale_pos_weight=10)\n",
    "print(\"XGB Accuracy:\\t\", \"%0.4f\" % XGB4_acc)\n",
    "print(\"XGB Precision:\\t\", \"%0.4f\" % XGB4_precision)\n",
    "print(\"XGB Recall:\\t\", \"%0.4f\" % XGB4_recall)\n",
    "print(\"XGB F1 Score:\\t\", \"%0.4f\" % XGB4_f1score)\n",
    "print(\"XGB AUC:\\t\", \"%0.4f\" % XGB4_auc)\n",
    "XGB4_cm"
   ]
  },
  {
   "cell_type": "code",
   "execution_count": null,
   "metadata": {},
   "outputs": [],
   "source": [
    "# Confusion matrix for XGB\n",
    "con = confusion_matrix(y_test, XGB4_preds)\n",
    "con\n",
    "plt.figure(figsize=(8,6))\n",
    "sns.heatmap(con, cmap=\"mako_r\", annot=True, fmt='g', xticklabels=('Predicted No Fraud', 'Predicted Fraud'), \n",
    "            yticklabels=('No Fraud', 'Fraud'))\n",
    "plt.xlabel(\"Predicted\")\n",
    "plt.ylabel(\"Actual\")\n",
    "plt.show()"
   ]
  },
  {
   "cell_type": "code",
   "execution_count": null,
   "metadata": {
    "scrolled": true
   },
   "outputs": [],
   "source": [
    "# Create table of accuracies for data with PREPROCESSING AND BINNED VALUES\n",
    "performance_preprossed_only = pd.DataFrame({\n",
    "    'Model' : ['Descision Tree', 'Random Forest', 'SVM', 'XGBoost'],\n",
    "    'Accuracy' : [round(DT4_acc, 4), round(RF4_acc, 4), round(SVM4_acc, 4), round(XGB4_acc, 4)],\n",
    "    'Precision' : [round(DT4_precision, 4), round(RF4_precision, 4), round(SVM4_precision, 4), round(XGB4_precision, 4)],\n",
    "    'Recall' : [round(DT4_recall, 4), round(RF4_recall, 4), round(SVM4_recall, 4), round(XGB4_recall, 4)],\n",
    "    'F1 Score' : [round(DT4_f1score, 4), round(RF4_f1score, 4), round(SVM4_f1score, 4), round(XGB4_f1score, 4)],\n",
    "    'AUC' : [round(DT4_auc, 4), round(RF4_auc, 4), round(SVM4_auc, 4), round(XGB4_auc, 4)]\n",
    "})\n",
    "performance_preprossed_only_df = performance_preprossed_only.sort_values(by='Recall', ascending=False)\n",
    "# Model_comparison_df = Model_comparison_df.set_index('Accuracy Score (%)')\n",
    "# Model_comparison_df.reset_index()\n",
    "\n",
    "#create table of results\n",
    "fig =  ff.create_table(performance_preprossed_only_df)\n",
    "fig.update_layout(\n",
    "    autosize=False,\n",
    "    width=700,\n",
    "    height=200,\n",
    ")\n",
    "fig.show()"
   ]
  },
  {
   "cell_type": "markdown",
   "metadata": {},
   "source": [
    "# SMOTE applied to dataset with best performance so far "
   ]
  },
  {
   "cell_type": "markdown",
   "metadata": {},
   "source": [
    "## DT"
   ]
  },
  {
   "cell_type": "code",
   "execution_count": 366,
   "metadata": {},
   "outputs": [],
   "source": [
    "x, y, x_train, x_test, y_train, y_test = train_test(df)"
   ]
  },
  {
   "cell_type": "code",
   "execution_count": 367,
   "metadata": {},
   "outputs": [
    {
     "name": "stdout",
     "output_type": "stream",
     "text": [
      "Shape of x before SMOTE: (800, 34)\n",
      "Shape of x after SMOTE: (1216, 34)\n"
     ]
    }
   ],
   "source": [
    "#Over sample the minority class using SMOTE\n",
    "\n",
    "sm = SMOTE(random_state=42)\n",
    "\n",
    "x_sm, y_sm = sm.fit_resample(x_train, y_train)\n",
    "\n",
    "print(f'''Shape of x before SMOTE: {x_train.shape}\n",
    "Shape of x after SMOTE: {x_sm.shape}''')"
   ]
  },
  {
   "cell_type": "code",
   "execution_count": 368,
   "metadata": {},
   "outputs": [
    {
     "name": "stdout",
     "output_type": "stream",
     "text": [
      " The best cross validation score for the DT model is: 0.8504\n",
      " The best parameters for the DT model: {'class_weight': {0: 1, 1: 1}, 'criterion': 'entropy', 'max_depth': 4}\n",
      " Test score: 0.8150\n"
     ]
    }
   ],
   "source": [
    "# Perform gridsearchCV to establish best params and test score \n",
    "DT_grid(x_sm, x_test, y_sm, y_test)"
   ]
  },
  {
   "cell_type": "code",
   "execution_count": null,
   "metadata": {},
   "outputs": [],
   "source": [
    "DTS_acc, DTS_cm, DTS_precision, DTS_recall, DTS_f1score, DTS_auc, DTS_preds = DT_eval(x_sm, \n",
    "                                                                               x_test, y_sm, y_test, \n",
    "                                                                               criterion='gini', max_depth=4, \n",
    "                                                                               class_weight={0: 1, 1: 1})\n",
    "print(\"Accuracy:\\t\", \"%0.4f\" % DTS_acc)\n",
    "print(\"Precision:\\t\", \"%0.4f\" % DTS_precision)\n",
    "print(\"Recall:\\t\\t\", \"%0.4f\" % DTS_recall)\n",
    "print(\"F1 Score:\\t\", \"%0.4f\" % DTS_f1score)\n",
    "print(\"AUC:\\t\\t\", \"%0.4f\" % DTS_auc)\n",
    "DTS_cm"
   ]
  },
  {
   "cell_type": "code",
   "execution_count": null,
   "metadata": {
    "scrolled": false
   },
   "outputs": [],
   "source": [
    "con = confusion_matrix(y_test, DTS_preds)\n",
    "con\n",
    "plt.figure(figsize=(8,6))\n",
    "sns.heatmap(con, cmap=\"coolwarm\", annot=True, fmt='g', xticklabels=('No Fraud', 'Fraud'), \n",
    "            yticklabels=('No Fraud', 'Fraud'))\n",
    "plt.xlabel(\"Predicted\")\n",
    "plt.ylabel(\"Actual\")\n",
    "plt.show()"
   ]
  },
  {
   "cell_type": "markdown",
   "metadata": {},
   "source": [
    "### RF"
   ]
  },
  {
   "cell_type": "code",
   "execution_count": null,
   "metadata": {},
   "outputs": [],
   "source": [
    "# Perform gridsearchCV to establish best params and test score \n",
    "RF_grid(x_sm, x_test, y_sm, y_test)"
   ]
  },
  {
   "cell_type": "code",
   "execution_count": null,
   "metadata": {},
   "outputs": [],
   "source": [
    "# Call the eval function manually inputting best aparams for clf and print evaluation results \n",
    "RFS_acc, RFS_cm, RFS_precision, RFS_recall, RFS_f1score, RFS_auc, RFS_preds = RF_eval(x_sm, \n",
    "                                                                               x_test, y_sm, y_test, \n",
    "                                                                               criterion='entropy', max_depth=10, \n",
    "                                                                               class_weight='balanced')\n",
    "print(\"RF Accuracy:\\t\", \"%0.4f\" % RFS_acc)\n",
    "print(\"RF Precision:\\t\", \"%0.4f\" % RFS_precision)\n",
    "print(\"RF Recall:\\t\", \"%0.4f\" % RFS_recall)\n",
    "print(\"RF F1 Score:\\t\", \"%0.4f\" % RFS_f1score)\n",
    "print(\"RF AUC:\\t\\t\", \"%0.4f\" % RFS_auc)\n",
    "RFS_cm"
   ]
  },
  {
   "cell_type": "code",
   "execution_count": null,
   "metadata": {},
   "outputs": [],
   "source": [
    "# Confusion matrix for RF\n",
    "con = confusion_matrix(y_test, RFS_preds)\n",
    "con\n",
    "plt.figure(figsize=(8,6))\n",
    "sns.heatmap(con, cmap=\"Greys\", annot=True, fmt='g', xticklabels=('Predicted No Fraud', 'Predicted Fraud'), \n",
    "            yticklabels=('No Fraud', 'Fraud'))\n",
    "plt.xlabel(\"Predicted\")\n",
    "plt.ylabel(\"Actual\")\n",
    "plt.show()"
   ]
  },
  {
   "cell_type": "markdown",
   "metadata": {},
   "source": [
    "### SVM"
   ]
  },
  {
   "cell_type": "code",
   "execution_count": null,
   "metadata": {},
   "outputs": [],
   "source": [
    "# Perform gridsearchCV to establish best params and test score \n",
    "SVM_grid(x_sm, x_test, y_sm, y_test)"
   ]
  },
  {
   "cell_type": "code",
   "execution_count": null,
   "metadata": {},
   "outputs": [],
   "source": [
    "# Call the eval function manually inputting best aparams for clf and print evaluation results \n",
    "SVMS_acc, SVMS_cm, SVMS_precision, SVMS_recall, SVMS_f1score, SVMS_auc, SVMS_preds = SVM_eval(x_sm, \n",
    "                                                                               x_test, y_sm, y_test, \n",
    "                                                                               C = 10, class_weight= {0: 100, 1: 1}, \n",
    "                                                                                       gamma= 0.01)\n",
    "print(\"SVM Accuracy:\\t\", \"%0.4f\" % SVMS_acc)\n",
    "print(\"SVM Precision:\\t\", \"%0.4f\" % SVMS_precision)\n",
    "print(\"SVM Recall:\\t\", \"%0.4f\" % SVMS_recall)\n",
    "print(\"SVM F1 Score:\\t\", \"%0.4f\" % SVMS_f1score)\n",
    "print(\"SVM AUC:\\t\", \"%0.4f\" % SVMS_auc)\n",
    "SVMS_cm"
   ]
  },
  {
   "cell_type": "code",
   "execution_count": null,
   "metadata": {},
   "outputs": [],
   "source": [
    "# Confusion matrix for SVM\n",
    "con = confusion_matrix(y_test, SVMS_preds)\n",
    "con\n",
    "plt.figure(figsize=(8,6))\n",
    "sns.heatmap(con, cmap=\"Blues\", annot=True, fmt='g', xticklabels=('Predicted No Fraud', 'Predicted Fraud'), \n",
    "            yticklabels=('No Fraud', 'Fraud'))\n",
    "plt.xlabel(\"Predicted\")\n",
    "plt.ylabel(\"Actual\")\n",
    "plt.show()"
   ]
  },
  {
   "cell_type": "markdown",
   "metadata": {},
   "source": [
    "### XGBoost "
   ]
  },
  {
   "cell_type": "code",
   "execution_count": null,
   "metadata": {},
   "outputs": [],
   "source": [
    "# Perform gridsearchCV to establish best params and test score \n",
    "XGB_grid(x_sm, x_test, y_sm, y_test)"
   ]
  },
  {
   "cell_type": "code",
   "execution_count": null,
   "metadata": {},
   "outputs": [],
   "source": [
    "# Call the eval function manually inputting best aparams for clf and print evaluation results \n",
    "XGBS_acc, XGBS_cm, XGBS_precision, XGBS_recall, XGBS_f1score, XGBS_auc, XGBS_preds = XGB_eval(x_sm, \n",
    "                                                                               x_test, y_sm, y_test, \n",
    "                                                                               learning_rate = 0.5, max_depth = 10,\n",
    "                                                                                             scale_pos_weight=1)\n",
    "print(\"XGB Accuracy:\\t\", \"%0.4f\" % XGBS_acc)\n",
    "print(\"XGB Precision:\\t\", \"%0.4f\" % XGBS_precision)\n",
    "print(\"XGB Recall:\\t\", \"%0.4f\" % XGBS_recall)\n",
    "print(\"XGB F1 Score:\\t\", \"%0.4f\" % XGBS_f1score)\n",
    "print(\"XGB AUC:\\t\", \"%0.4f\" % XGBS_auc)\n",
    "XGBS_cm"
   ]
  },
  {
   "cell_type": "code",
   "execution_count": null,
   "metadata": {},
   "outputs": [],
   "source": [
    "# Confusion matrix for XGB\n",
    "con = confusion_matrix(y_test, XGBS_preds)\n",
    "con\n",
    "plt.figure(figsize=(8,6))\n",
    "sns.heatmap(con, cmap=\"mako_r\", annot=True, fmt='g', xticklabels=('Predicted No Fraud', 'Predicted Fraud'), \n",
    "            yticklabels=('No Fraud', 'Fraud'))\n",
    "plt.xlabel(\"Predicted\")\n",
    "plt.ylabel(\"Actual\")\n",
    "plt.show()"
   ]
  },
  {
   "cell_type": "code",
   "execution_count": null,
   "metadata": {
    "scrolled": true
   },
   "outputs": [],
   "source": [
    "# Create table of accuracies for data with PREPROCESSING, VALUES BINNED and SMOTE\n",
    "performance_preprossed_only = pd.DataFrame({\n",
    "    'Model' : ['Descision Tree', 'Random Forest', 'SVM', 'XGBoost'],\n",
    "    'Accuracy' : [round(DTS_acc, 4), round(RFS_acc, 4), round(SVMS_acc, 4), round(XGBS_acc, 4)],\n",
    "    'Precision' : [round(DTS_precision, 4), round(RFS_precision, 4), round(SVMS_precision, 4), round(XGBS_precision, 4)],\n",
    "    'Recall' : [round(DTS_recall, 4), round(RFS_recall, 4), round(SVMS_recall, 4), round(XGBS_recall, 4)],\n",
    "    'F1 Score' : [round(DTS_f1score, 4), round(RFS_f1score, 4), round(SVMS_f1score, 4), round(XGBS_f1score, 4)],\n",
    "    'AUC' : [round(DTS_auc, 4), round(RFS_auc, 4), round(SVMS_auc, 4), round(XGBS_auc, 4)]\n",
    "})\n",
    "performance_preprossed_only_df = performance_preprossed_only.sort_values(by='Recall', ascending=False)\n",
    "# Model_comparison_df = Model_comparison_df.set_index('Accuracy Score (%)')\n",
    "# Model_comparison_df.reset_index()\n",
    "\n",
    "#create table of results\n",
    "fig =  ff.create_table(performance_preprossed_only_df)\n",
    "fig.update_layout(\n",
    "    autosize=False,\n",
    "    width=700,\n",
    "    height=200,\n",
    ")\n",
    "fig.show()"
   ]
  },
  {
   "cell_type": "code",
   "execution_count": null,
   "metadata": {},
   "outputs": [],
   "source": [
    "# NO IMPROVEMENT FOR MODELS WITH SMOTE ON DATA WITH JUST PREPROCESSING "
   ]
  },
  {
   "cell_type": "code",
   "execution_count": null,
   "metadata": {},
   "outputs": [],
   "source": [
    "# EXPLORE FEATURE IMPORTANCE!!!!!"
   ]
  },
  {
   "cell_type": "code",
   "execution_count": null,
   "metadata": {},
   "outputs": [],
   "source": []
  },
  {
   "cell_type": "code",
   "execution_count": null,
   "metadata": {},
   "outputs": [],
   "source": [
    "from sklearn.datasets import make_moons\n",
    "X, y = make_moons(n_samples=100, noise=0.15, random_state=42)\n",
    "\n",
    "def plot_dataset(X, y, axes):\n",
    "    plt.plot(X[:, 0][y==0], X[:, 1][y==0], \"bs\")\n",
    "    plt.plot(X[:, 0][y==1], X[:, 1][y==1], \"g^\")\n",
    "    plt.axis(axes)\n",
    "    plt.grid(True, which='both')\n",
    "    plt.xlabel(r\"$x_1$\", fontsize=20)\n",
    "    plt.ylabel(r\"$x_2$\", fontsize=20, rotation=0)\n",
    "\n",
    "\n",
    "# do this in Scikit with a Pipeline. Contents:\n",
    "# 1) Polynomial Features\n",
    "# 2) StandardScaler\n",
    "# 3) LinearSVC\n",
    "\n",
    "from sklearn.svm import LinearSVC\n",
    "from sklearn.pipeline import Pipeline\n",
    "from sklearn.preprocessing import PolynomialFeatures\n",
    "\n",
    "polynomial_svm_clf = Pipeline((\n",
    "        (\"poly_features\", PolynomialFeatures(degree=3)),\n",
    "        (\"scaler\", StandardScaler()),\n",
    "        (\"svm_clf\", LinearSVC(C=10, loss=\"hinge\"))\n",
    "    ))\n",
    "\n",
    "polynomial_svm_clf.fit(X, y)\n",
    "\n",
    "def plot_predictions(clf, axes):\n",
    "    x0s = np.linspace(axes[0], axes[1], 100)\n",
    "    x1s = np.linspace(axes[2], axes[3], 100)\n",
    "    x0, x1 = np.meshgrid(x0s, x1s)\n",
    "    X = np.c_[x0.ravel(), x1.ravel()]\n",
    "    y_pred = clf.predict(X).reshape(x0.shape)\n",
    "    y_decision = clf.decision_function(X).reshape(x0.shape)\n",
    "    plt.contourf(x0, x1, y_pred, cmap=plt.cm.brg, alpha=0.2)\n",
    "    plt.contourf(x0, x1, y_decision, cmap=plt.cm.brg, alpha=0.1)\n",
    "\n",
    "plot_predictions(polynomial_svm_clf, [-1.5, 2.5, -1, 1.5])\n",
    "plot_dataset(X, y, [-1.5, 2.5, -1, 1.5])"
   ]
  },
  {
   "cell_type": "code",
   "execution_count": null,
   "metadata": {},
   "outputs": [],
   "source": [
    "from sklearn.svm import SVC\n",
    "\n",
    "rbf_kernel_svm_clf = Pipeline((\n",
    "        (\"scaler\", StandardScaler()),\n",
    "        (\"svm_clf\", SVC(kernel=\"rbf\", gamma=5, C=0.001))\n",
    "    ))\n",
    "rbf_kernel_svm_clf.fit(X, y)\n",
    "\n",
    "\n",
    "gamma1, gamma2 = 0.1, 5\n",
    "C1, C2 = 0.001, 1000\n",
    "hyperparams = (gamma1, C1), (gamma1, C2), (gamma2, C1), (gamma2, C2)\n",
    "\n",
    "svm_clfs = []\n",
    "for gamma, C in hyperparams:\n",
    "    rbf_kernel_svm_clf = Pipeline((\n",
    "            (\"scaler\", StandardScaler()),\n",
    "            (\"svm_clf\", SVC(kernel=\"rbf\", gamma=gamma, C=C))\n",
    "        ))\n",
    "    rbf_kernel_svm_clf.fit(X, y)\n",
    "    svm_clfs.append(rbf_kernel_svm_clf)\n",
    "\n",
    "plt.figure(figsize=(11, 7))\n",
    "\n",
    "for i, svm_clf in enumerate(svm_clfs):\n",
    "    plt.subplot(221 + i)\n",
    "    plot_predictions(svm_clf, [-1.5, 2.5, -1, 1.5])\n",
    "    plot_dataset(X, y, [-1.5, 2.5, -1, 1.5])\n",
    "    gamma, C = hyperparams[i]\n",
    "    plt.title(r\"$\\gamma = {}, C = {}$\".format(gamma, C), fontsize=16)\n",
    "\n",
    "#save_fig(\"moons_rbf_svc_plot\")\n",
    "plt.tight_layout()\n",
    "plt.show()\n",
    "\n",
    "\n",
    "# below: model trained with different values of gamma and C.\n",
    "# GAMMA:\n",
    "# bigger gamma = narrower bell curve, so each instance's area of influence = smaller.\n",
    "# smaller gamma: bigger bell curve = smoother decision boundary."
   ]
  },
  {
   "cell_type": "code",
   "execution_count": null,
   "metadata": {},
   "outputs": [],
   "source": [
    "df_fraud_tot = df_eda[df_eda['fraud_reported'] == 'Y']\n",
    "df_no_fraud_tot = df_eda[df_eda['fraud_reported'] == 'N']"
   ]
  },
  {
   "cell_type": "markdown",
   "metadata": {},
   "source": [
    "## Feature Importantance of DT on df_v Data (Just basic preprocessing)"
   ]
  },
  {
   "cell_type": "code",
   "execution_count": 382,
   "metadata": {},
   "outputs": [],
   "source": [
    "def feature_importance(model):\n",
    "    importances = pd.DataFrame(data={\n",
    "    'Attribute': x_train.columns,\n",
    "    'Importance': model.feature_importances_})\n",
    "    importances = importances.sort_values(by='Importance', ascending=False)\n",
    "    plt.bar(x=importances['Attribute'], height=importances['Importance'], color='#087E8B')\n",
    "    plt.title('Feature Importances Obtained from Model', size=20)\n",
    "    plt.xticks(rotation='vertical')\n",
    "    plt.show()"
   ]
  },
  {
   "cell_type": "code",
   "execution_count": 383,
   "metadata": {},
   "outputs": [
    {
     "data": {
      "text/plain": [
       "DecisionTreeClassifier(class_weight='balanced', criterion='entropy',\n",
       "                       max_depth=4)"
      ]
     },
     "execution_count": 383,
     "metadata": {},
     "output_type": "execute_result"
    }
   ],
   "source": [
    "clf_DT = DecisionTreeClassifier(criterion='entropy', max_depth=4, class_weight='balanced')\n",
    "clf_DT.fit(x_train, y_train)"
   ]
  },
  {
   "cell_type": "code",
   "execution_count": 384,
   "metadata": {
    "scrolled": false
   },
   "outputs": [
    {
     "data": {
      "image/png": "[encoded data removed]",
      "text/plain": [
       "<Figure size 1080x576 with 1 Axes>"
      ]
     },
     "metadata": {},
     "output_type": "display_data"
    }
   ],
   "source": [
    "feature_importance(clf_DT)"
   ]
  },
  {
   "cell_type": "markdown",
   "metadata": {},
   "source": [
    "## Feature Importance for XGBoost"
   ]
  },
  {
   "cell_type": "code",
   "execution_count": 385,
   "metadata": {
    "scrolled": true
   },
   "outputs": [
    {
     "data": {
      "text/plain": [
       "XGBClassifier(base_score=0.5, booster='gbtree', colsample_bylevel=1,\n",
       "              colsample_bynode=1, colsample_bytree=1, eval_metric='auc',\n",
       "              gamma=0, gpu_id=-1, importance_type='gain',\n",
       "              interaction_constraints='', learning_rate=0.01, max_delta_step=0,\n",
       "              max_depth=5, min_child_weight=1, missing=nan,\n",
       "              monotone_constraints='()', n_estimators=100, n_jobs=8,\n",
       "              num_parallel_tree=1, random_state=0, reg_alpha=0, reg_lambda=1,\n",
       "              scale_pos_weight=5, silent=True, subsample=1, tree_method='exact',\n",
       "              validate_parameters=True, verbosity=0)"
      ]
     },
     "execution_count": 385,
     "metadata": {},
     "output_type": "execute_result"
    }
   ],
   "source": [
    "clf_XGB = XGBClassifier(validate_parameters=True, eval_metric='auc',\n",
    "                    learning_rate=0.01, max_depth=5, scale_pos_weight = 5, silent=True, verbosity=0)\n",
    "clf_XGB.fit(x_train, y_train.values.ravel())"
   ]
  },
  {
   "cell_type": "code",
   "execution_count": 386,
   "metadata": {},
   "outputs": [
    {
     "data": {
      "image/png": "[encoded data removed]",
      "text/plain": [
       "<Figure size 1080x576 with 1 Axes>"
      ]
     },
     "metadata": {},
     "output_type": "display_data"
    }
   ],
   "source": [
    "feature_importance(clf_XGB)"
   ]
  },
  {
   "cell_type": "code",
   "execution_count": 379,
   "metadata": {},
   "outputs": [
    {
     "data": {
      "text/plain": [
       "array([0.01551071, 0.02077732, 0.00997908, 0.01693675, 0.02062759,\n",
       "       0.00942386, 0.01754601, 0.01313988, 0.00425563, 0.01305396,\n",
       "       0.1544731 , 0.00671591, 0.02239732, 0.00347968, 0.01449861,\n",
       "       0.01693391, 0.42506984, 0.02085737, 0.01152129, 0.01755071,\n",
       "       0.01798718, 0.00457352, 0.01077074, 0.        , 0.02077357,\n",
       "       0.01639931, 0.00812556, 0.0115277 , 0.01325426, 0.00538664,\n",
       "       0.01695759, 0.01079686, 0.01455993, 0.01413852], dtype=float32)"
      ]
     },
     "execution_count": 379,
     "metadata": {},
     "output_type": "execute_result"
    }
   ],
   "source": [
    "clf_XGB.feature_importances_"
   ]
  }
 ],
 "metadata": {
  "kernelspec": {
   "display_name": "Python 3",
   "language": "python",
   "name": "python3"
  },
  "language_info": {
   "codemirror_mode": {
    "name": "ipython",
    "version": 3
   },
   "file_extension": ".py",
   "mimetype": "text/x-python",
   "name": "python",
   "nbconvert_exporter": "python",
   "pygments_lexer": "ipython3",
   "version": "3.8.5"
  }
 },
 "nbformat": 4,
 "nbformat_minor": 4
}
